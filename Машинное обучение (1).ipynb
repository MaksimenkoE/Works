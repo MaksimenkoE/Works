{
 "cells": [
  {
   "cell_type": "markdown",
   "metadata": {},
   "source": [
    "# Проект для сети фитнес-центров «Культурист-датасаентист»\n",
    "\n",
    "# Описание проекта\n",
    "Сеть фитнес-центров «Культурист-датасаентист» разрабатывает стратегию взаимодействия с пользователями на основе аналитических данных. В рамках данного анализа был проведен исследовательский анализ данных(EDA) с целью выяснить какие параметры влияют на отток клиентов; была построена модель прогнозирования оттока клиентов и обучена двумя способами: \n",
    "- методом логистической регрессии и случайным лесом; \n",
    "- выполнена класеризация клиентов с целью выявления склонных к оттоку и надежных групп клиентов. \n",
    "\n",
    "Цель данной работы: провести анализ электронных анкет и подготовить план действий по удержанию клиентов сети.\n",
    "\n",
    "**Описание данных**\n",
    "*Данные клиента за предыдущий до проверки факта оттока месяц:*\n",
    "- `gender` — пол;\n",
    "- `Near_Location` — проживание или работа в районе, где находится фитнес-центр;\n",
    "- `Partner` — сотрудник компании-партнёра клуба (сотрудничество с компаниями, чьи сотрудники могут получать скидки на абонемент — в таком случае фитнес-центр хранит информацию о работодателе клиента);\n",
    "- `Promo_friends` — факт первоначальной записи в рамках акции «приведи друга» (использовал промо-код от знакомого при оплате первого абонемента);\n",
    "- `Phone` — наличие контактного телефона;\n",
    "- `Age` — возраст;\n",
    "- `Lifetime` — время с момента первого обращения в фитнес-центр (в месяцах).\n",
    "\n",
    "*Информация на основе журнала посещений, покупок и информация о текущем статусе абонемента клиента:*\n",
    "- `Contract_period` — длительность текущего действующего абонемента (месяц, 6 месяцев, год);\n",
    "- `Month_to_end_contract` — срок до окончания текущего действующего абонемента (в месяцах);\n",
    "- `Group_visits` — факт посещения групповых занятий;\n",
    "- `Avg_class_frequency_total` — средняя частота посещений в неделю за все время с начала действия абонемента;\n",
    "- `Avg_class_frequency_current_month` — средняя частота посещений в неделю за предыдущий месяц;\n",
    "- `Avg_additional_charges_total` — суммарная выручка от других услуг фитнес-центра: кафе, спорттовары, косметический и массажный салон.\n",
    "- `Churn` — факт оттока в текущем месяце.\n"
   ]
  },
  {
   "cell_type": "markdown",
   "metadata": {
    "toc": true
   },
   "source": [
    "<h1>Table of Contents<span class=\"tocSkip\"></span></h1>\n",
    "<div class=\"toc\"><ul class=\"toc-item\"><li><span><a href=\"#Загрузка-и-предподоготовка-данных.\" data-toc-modified-id=\"Загрузка-и-предподоготовка-данных.-1\"><span class=\"toc-item-num\">1&nbsp;&nbsp;</span>Загрузка и предподоготовка данных.</a></span></li><li><span><a href=\"#Исследовательский-анализ-данных-(EDA)\" data-toc-modified-id=\"Исследовательский-анализ-данных-(EDA)-2\"><span class=\"toc-item-num\">2&nbsp;&nbsp;</span>Исследовательский анализ данных (EDA)</a></span><ul class=\"toc-item\"><li><span><a href=\"#Изучение-и-проверка-данных\" data-toc-modified-id=\"Изучение-и-проверка-данных-2.1\"><span class=\"toc-item-num\">2.1&nbsp;&nbsp;</span>Изучение и проверка данных</a></span></li><li><span><a href=\"#Анализ-средних-значений-показателей\" data-toc-modified-id=\"Анализ-средних-значений-показателей-2.2\"><span class=\"toc-item-num\">2.2&nbsp;&nbsp;</span>Анализ средних значений показателей</a></span></li><li><span><a href=\"#График-распределения-признаков\" data-toc-modified-id=\"График-распределения-признаков-2.3\"><span class=\"toc-item-num\">2.3&nbsp;&nbsp;</span>График распределения признаков</a></span></li><li><span><a href=\"#Матрица-корелляций\" data-toc-modified-id=\"Матрица-корелляций-2.4\"><span class=\"toc-item-num\">2.4&nbsp;&nbsp;</span>Матрица корелляций</a></span></li></ul></li><li><span><a href=\"#Построение-модели-прогнозирования-оттока-пользователей\" data-toc-modified-id=\"Построение-модели-прогнозирования-оттока-пользователей-3\"><span class=\"toc-item-num\">3&nbsp;&nbsp;</span>Построение модели прогнозирования оттока пользователей</a></span><ul class=\"toc-item\"><li><span><a href=\"#Выделение-обучающей-и-валидационной-выборок\" data-toc-modified-id=\"Выделение-обучающей-и-валидационной-выборок-3.1\"><span class=\"toc-item-num\">3.1&nbsp;&nbsp;</span>Выделение обучающей и валидационной выборок</a></span></li><li><span><a href=\"#Модель-построенная-способом-логистической-регрессии\" data-toc-modified-id=\"Модель-построенная-способом-логистической-регрессии-3.2\"><span class=\"toc-item-num\">3.2&nbsp;&nbsp;</span>Модель построенная способом логистической регрессии</a></span></li><li><span><a href=\"#Модель-построенная-способом-случайного-леса\" data-toc-modified-id=\"Модель-построенная-способом-случайного-леса-3.3\"><span class=\"toc-item-num\">3.3&nbsp;&nbsp;</span>Модель построенная способом случайного леса</a></span></li><li><span><a href=\"#Оценка-метрик-и-сравнение-моделей\" data-toc-modified-id=\"Оценка-метрик-и-сравнение-моделей-3.4\"><span class=\"toc-item-num\">3.4&nbsp;&nbsp;</span>Оценка метрик и сравнение моделей</a></span></li></ul></li><li><span><a href=\"#Кластеризация-клиентов\" data-toc-modified-id=\"Кластеризация-клиентов-4\"><span class=\"toc-item-num\">4&nbsp;&nbsp;</span>Кластеризация клиентов</a></span><ul class=\"toc-item\"><li><span><a href=\"#Стандартизация-данных\" data-toc-modified-id=\"Стандартизация-данных-4.1\"><span class=\"toc-item-num\">4.1&nbsp;&nbsp;</span>Стандартизация данных</a></span></li><li><span><a href=\"#Построение-матрицы-расстояний-и-дендрограммы\" data-toc-modified-id=\"Построение-матрицы-расстояний-и-дендрограммы-4.2\"><span class=\"toc-item-num\">4.2&nbsp;&nbsp;</span>Построение матрицы расстояний и дендрограммы</a></span></li><li><span><a href=\"#Обучение-модели-кластеризации-и-прогноз-кластеров-клиентов\" data-toc-modified-id=\"Обучение-модели-кластеризации-и-прогноз-кластеров-клиентов-4.3\"><span class=\"toc-item-num\">4.3&nbsp;&nbsp;</span>Обучение модели кластеризации и прогноз кластеров клиентов</a></span></li><li><span><a href=\"#Анализ-распределения-признаков-для-кластеров\" data-toc-modified-id=\"Анализ-распределения-признаков-для-кластеров-4.4\"><span class=\"toc-item-num\">4.4&nbsp;&nbsp;</span>Анализ распределения признаков для кластеров</a></span></li><li><span><a href=\"#Расчёт-и-анализ-долей-оттока-для-кластеров\" data-toc-modified-id=\"Расчёт-и-анализ-долей-оттока-для-кластеров-4.5\"><span class=\"toc-item-num\">4.5&nbsp;&nbsp;</span>Расчёт и анализ долей оттока для кластеров</a></span></li></ul></li><li><span><a href=\"#Общий-вывод\" data-toc-modified-id=\"Общий-вывод-5\"><span class=\"toc-item-num\">5&nbsp;&nbsp;</span>Общий вывод</a></span><ul class=\"toc-item\"><li><span><a href=\"#Подготовка-данных\" data-toc-modified-id=\"Подготовка-данных-5.1\"><span class=\"toc-item-num\">5.1&nbsp;&nbsp;</span><strong>Подготовка данных</strong></a></span></li><li><span><a href=\"#*Исследовательский-анализ-данных\" data-toc-modified-id=\"*Исследовательский-анализ-данных-5.2\"><span class=\"toc-item-num\">5.2&nbsp;&nbsp;</span><em>*Исследовательский анализ данных</em></a></span></li><li><span><a href=\"#Модель-прогнозирования-оттока-клиентов\" data-toc-modified-id=\"Модель-прогнозирования-оттока-клиентов-5.3\"><span class=\"toc-item-num\">5.3&nbsp;&nbsp;</span><strong>Модель прогнозирования оттока клиентов</strong></a></span></li><li><span><a href=\"#Кластеризация-клиентов\" data-toc-modified-id=\"Кластеризация-клиентов-5.4\"><span class=\"toc-item-num\">5.4&nbsp;&nbsp;</span><strong>Кластеризация клиентов</strong></a></span></li><li><span><a href=\"#Рекомендации\" data-toc-modified-id=\"Рекомендации-5.5\"><span class=\"toc-item-num\">5.5&nbsp;&nbsp;</span><strong>Рекомендации</strong></a></span></li></ul></li></ul></div>"
   ]
  },
  {
   "cell_type": "markdown",
   "metadata": {},
   "source": [
    "##  Загрузка и предподоготовка данных."
   ]
  },
  {
   "cell_type": "code",
   "execution_count": 1,
   "metadata": {},
   "outputs": [],
   "source": [
    "import pandas as pd\n",
    "import matplotlib.pyplot as plt\n",
    "import numpy as np\n",
    "import seaborn as sns\n",
    "from sklearn.preprocessing import StandardScaler\n",
    "from sklearn.model_selection import train_test_split\n",
    "from sklearn.linear_model import Lasso, Ridge,LogisticRegression\n",
    "from sklearn.tree import DecisionTreeRegressor\n",
    "from sklearn.ensemble import RandomForestRegressor, GradientBoostingRegressor,RandomForestClassifier,GradientBoostingClassifier\n",
    "from sklearn.metrics import mean_absolute_error, mean_squared_error, r2_score,silhouette_score\n",
    "from sklearn.metrics import accuracy_score, precision_score, recall_score, f1_score,roc_auc_score\n",
    "import itertools\n",
    "from sklearn.cluster import KMeans\n",
    "from scipy.cluster.hierarchy import dendrogram, linkage \n",
    "import warnings\n",
    "warnings.simplefilter(action='ignore', category=FutureWarning)"
   ]
  },
  {
   "cell_type": "code",
   "execution_count": 2,
   "metadata": {},
   "outputs": [],
   "source": [
    "def info(data):\n",
    "# функция выводит информаци по загруженному датефрейму    \n",
    "\n",
    "    print('Обзор загруженных данных')\n",
    "    display(data.head(5))\n",
    "    print()\n",
    "    data.info()\n",
    "    print()\n",
    "    print()\n",
    "    print('Размер датасета')\n",
    "    print(data.shape)\n",
    "    print()\n",
    "    print('Пропуски')\n",
    "    display(data.isnull().sum())               \n",
    "    print()           \n",
    "    print('Количество полных дубликатов:', data.duplicated().sum())"
   ]
  },
  {
   "cell_type": "code",
   "execution_count": 3,
   "metadata": {},
   "outputs": [
    {
     "name": "stdout",
     "output_type": "stream",
     "text": [
      "Обзор загруженных данных\n"
     ]
    },
    {
     "data": {
      "text/html": [
       "<div>\n",
       "<style scoped>\n",
       "    .dataframe tbody tr th:only-of-type {\n",
       "        vertical-align: middle;\n",
       "    }\n",
       "\n",
       "    .dataframe tbody tr th {\n",
       "        vertical-align: top;\n",
       "    }\n",
       "\n",
       "    .dataframe thead th {\n",
       "        text-align: right;\n",
       "    }\n",
       "</style>\n",
       "<table border=\"1\" class=\"dataframe\">\n",
       "  <thead>\n",
       "    <tr style=\"text-align: right;\">\n",
       "      <th></th>\n",
       "      <th>gender</th>\n",
       "      <th>Near_Location</th>\n",
       "      <th>Partner</th>\n",
       "      <th>Promo_friends</th>\n",
       "      <th>Phone</th>\n",
       "      <th>Contract_period</th>\n",
       "      <th>Group_visits</th>\n",
       "      <th>Age</th>\n",
       "      <th>Avg_additional_charges_total</th>\n",
       "      <th>Month_to_end_contract</th>\n",
       "      <th>Lifetime</th>\n",
       "      <th>Avg_class_frequency_total</th>\n",
       "      <th>Avg_class_frequency_current_month</th>\n",
       "      <th>Churn</th>\n",
       "    </tr>\n",
       "  </thead>\n",
       "  <tbody>\n",
       "    <tr>\n",
       "      <th>0</th>\n",
       "      <td>1</td>\n",
       "      <td>1</td>\n",
       "      <td>1</td>\n",
       "      <td>1</td>\n",
       "      <td>0</td>\n",
       "      <td>6</td>\n",
       "      <td>1</td>\n",
       "      <td>29</td>\n",
       "      <td>14.227470</td>\n",
       "      <td>5.0</td>\n",
       "      <td>3</td>\n",
       "      <td>0.020398</td>\n",
       "      <td>0.000000</td>\n",
       "      <td>0</td>\n",
       "    </tr>\n",
       "    <tr>\n",
       "      <th>1</th>\n",
       "      <td>0</td>\n",
       "      <td>1</td>\n",
       "      <td>0</td>\n",
       "      <td>0</td>\n",
       "      <td>1</td>\n",
       "      <td>12</td>\n",
       "      <td>1</td>\n",
       "      <td>31</td>\n",
       "      <td>113.202938</td>\n",
       "      <td>12.0</td>\n",
       "      <td>7</td>\n",
       "      <td>1.922936</td>\n",
       "      <td>1.910244</td>\n",
       "      <td>0</td>\n",
       "    </tr>\n",
       "    <tr>\n",
       "      <th>2</th>\n",
       "      <td>0</td>\n",
       "      <td>1</td>\n",
       "      <td>1</td>\n",
       "      <td>0</td>\n",
       "      <td>1</td>\n",
       "      <td>1</td>\n",
       "      <td>0</td>\n",
       "      <td>28</td>\n",
       "      <td>129.448479</td>\n",
       "      <td>1.0</td>\n",
       "      <td>2</td>\n",
       "      <td>1.859098</td>\n",
       "      <td>1.736502</td>\n",
       "      <td>0</td>\n",
       "    </tr>\n",
       "    <tr>\n",
       "      <th>3</th>\n",
       "      <td>0</td>\n",
       "      <td>1</td>\n",
       "      <td>1</td>\n",
       "      <td>1</td>\n",
       "      <td>1</td>\n",
       "      <td>12</td>\n",
       "      <td>1</td>\n",
       "      <td>33</td>\n",
       "      <td>62.669863</td>\n",
       "      <td>12.0</td>\n",
       "      <td>2</td>\n",
       "      <td>3.205633</td>\n",
       "      <td>3.357215</td>\n",
       "      <td>0</td>\n",
       "    </tr>\n",
       "    <tr>\n",
       "      <th>4</th>\n",
       "      <td>1</td>\n",
       "      <td>1</td>\n",
       "      <td>1</td>\n",
       "      <td>1</td>\n",
       "      <td>1</td>\n",
       "      <td>1</td>\n",
       "      <td>0</td>\n",
       "      <td>26</td>\n",
       "      <td>198.362265</td>\n",
       "      <td>1.0</td>\n",
       "      <td>3</td>\n",
       "      <td>1.113884</td>\n",
       "      <td>1.120078</td>\n",
       "      <td>0</td>\n",
       "    </tr>\n",
       "  </tbody>\n",
       "</table>\n",
       "</div>"
      ],
      "text/plain": [
       "   gender  Near_Location  Partner  Promo_friends  Phone  Contract_period  \\\n",
       "0       1              1        1              1      0                6   \n",
       "1       0              1        0              0      1               12   \n",
       "2       0              1        1              0      1                1   \n",
       "3       0              1        1              1      1               12   \n",
       "4       1              1        1              1      1                1   \n",
       "\n",
       "   Group_visits  Age  Avg_additional_charges_total  Month_to_end_contract  \\\n",
       "0             1   29                     14.227470                    5.0   \n",
       "1             1   31                    113.202938                   12.0   \n",
       "2             0   28                    129.448479                    1.0   \n",
       "3             1   33                     62.669863                   12.0   \n",
       "4             0   26                    198.362265                    1.0   \n",
       "\n",
       "   Lifetime  Avg_class_frequency_total  Avg_class_frequency_current_month  \\\n",
       "0         3                   0.020398                           0.000000   \n",
       "1         7                   1.922936                           1.910244   \n",
       "2         2                   1.859098                           1.736502   \n",
       "3         2                   3.205633                           3.357215   \n",
       "4         3                   1.113884                           1.120078   \n",
       "\n",
       "   Churn  \n",
       "0      0  \n",
       "1      0  \n",
       "2      0  \n",
       "3      0  \n",
       "4      0  "
      ]
     },
     "metadata": {},
     "output_type": "display_data"
    },
    {
     "name": "stdout",
     "output_type": "stream",
     "text": [
      "\n",
      "<class 'pandas.core.frame.DataFrame'>\n",
      "RangeIndex: 4000 entries, 0 to 3999\n",
      "Data columns (total 14 columns):\n",
      " #   Column                             Non-Null Count  Dtype  \n",
      "---  ------                             --------------  -----  \n",
      " 0   gender                             4000 non-null   int64  \n",
      " 1   Near_Location                      4000 non-null   int64  \n",
      " 2   Partner                            4000 non-null   int64  \n",
      " 3   Promo_friends                      4000 non-null   int64  \n",
      " 4   Phone                              4000 non-null   int64  \n",
      " 5   Contract_period                    4000 non-null   int64  \n",
      " 6   Group_visits                       4000 non-null   int64  \n",
      " 7   Age                                4000 non-null   int64  \n",
      " 8   Avg_additional_charges_total       4000 non-null   float64\n",
      " 9   Month_to_end_contract              4000 non-null   float64\n",
      " 10  Lifetime                           4000 non-null   int64  \n",
      " 11  Avg_class_frequency_total          4000 non-null   float64\n",
      " 12  Avg_class_frequency_current_month  4000 non-null   float64\n",
      " 13  Churn                              4000 non-null   int64  \n",
      "dtypes: float64(4), int64(10)\n",
      "memory usage: 437.6 KB\n",
      "\n",
      "\n",
      "Размер датасета\n",
      "(4000, 14)\n",
      "\n",
      "Пропуски\n"
     ]
    },
    {
     "data": {
      "text/plain": [
       "gender                               0\n",
       "Near_Location                        0\n",
       "Partner                              0\n",
       "Promo_friends                        0\n",
       "Phone                                0\n",
       "Contract_period                      0\n",
       "Group_visits                         0\n",
       "Age                                  0\n",
       "Avg_additional_charges_total         0\n",
       "Month_to_end_contract                0\n",
       "Lifetime                             0\n",
       "Avg_class_frequency_total            0\n",
       "Avg_class_frequency_current_month    0\n",
       "Churn                                0\n",
       "dtype: int64"
      ]
     },
     "metadata": {},
     "output_type": "display_data"
    },
    {
     "name": "stdout",
     "output_type": "stream",
     "text": [
      "\n",
      "Количество полных дубликатов: 0\n"
     ]
    }
   ],
   "source": [
    "data=pd.read_csv('/datasets/gym_churn.csv')\n",
    "info(data)"
   ]
  },
  {
   "cell_type": "markdown",
   "metadata": {},
   "source": [
    "По изученным данным делаю вывод, что у нас наичистейшие данные: \n",
    "   - пропусков нет \n",
    "   - типы данных во всех колонках соответсвующие, кроме колонки `month_to_end_contract`\n",
    "   - Размер датасета: 4000 строк и 14 колонок \n",
    "   - Дубликатов не обнаружено\n",
    "   \n",
    "Преведем название столбцов в нижний регистр и переведем в числовой формат столбец \"month_to_end_conract\" (данные с информацией о сроке до окончания текущего действующего абонемента)? а также переведем некоторые столбцы в булевой тип данных. "
   ]
  },
  {
   "cell_type": "code",
   "execution_count": 4,
   "metadata": {
    "scrolled": true
   },
   "outputs": [
    {
     "data": {
      "text/html": [
       "<div>\n",
       "<style scoped>\n",
       "    .dataframe tbody tr th:only-of-type {\n",
       "        vertical-align: middle;\n",
       "    }\n",
       "\n",
       "    .dataframe tbody tr th {\n",
       "        vertical-align: top;\n",
       "    }\n",
       "\n",
       "    .dataframe thead th {\n",
       "        text-align: right;\n",
       "    }\n",
       "</style>\n",
       "<table border=\"1\" class=\"dataframe\">\n",
       "  <thead>\n",
       "    <tr style=\"text-align: right;\">\n",
       "      <th></th>\n",
       "      <th>gender</th>\n",
       "      <th>near_location</th>\n",
       "      <th>partner</th>\n",
       "      <th>promo_friends</th>\n",
       "      <th>phone</th>\n",
       "      <th>contract_period</th>\n",
       "      <th>group_visits</th>\n",
       "      <th>age</th>\n",
       "      <th>avg_additional_charges_total</th>\n",
       "      <th>month_to_end_contract</th>\n",
       "      <th>lifetime</th>\n",
       "      <th>avg_class_frequency_total</th>\n",
       "      <th>avg_class_frequency_current_month</th>\n",
       "      <th>churn</th>\n",
       "    </tr>\n",
       "  </thead>\n",
       "  <tbody>\n",
       "    <tr>\n",
       "      <th>0</th>\n",
       "      <td>1</td>\n",
       "      <td>1</td>\n",
       "      <td>1</td>\n",
       "      <td>1</td>\n",
       "      <td>0</td>\n",
       "      <td>6</td>\n",
       "      <td>1</td>\n",
       "      <td>29</td>\n",
       "      <td>14.227470</td>\n",
       "      <td>5</td>\n",
       "      <td>3</td>\n",
       "      <td>0.020398</td>\n",
       "      <td>0.000000</td>\n",
       "      <td>0</td>\n",
       "    </tr>\n",
       "    <tr>\n",
       "      <th>1</th>\n",
       "      <td>0</td>\n",
       "      <td>1</td>\n",
       "      <td>0</td>\n",
       "      <td>0</td>\n",
       "      <td>1</td>\n",
       "      <td>12</td>\n",
       "      <td>1</td>\n",
       "      <td>31</td>\n",
       "      <td>113.202938</td>\n",
       "      <td>12</td>\n",
       "      <td>7</td>\n",
       "      <td>1.922936</td>\n",
       "      <td>1.910244</td>\n",
       "      <td>0</td>\n",
       "    </tr>\n",
       "    <tr>\n",
       "      <th>2</th>\n",
       "      <td>0</td>\n",
       "      <td>1</td>\n",
       "      <td>1</td>\n",
       "      <td>0</td>\n",
       "      <td>1</td>\n",
       "      <td>1</td>\n",
       "      <td>0</td>\n",
       "      <td>28</td>\n",
       "      <td>129.448479</td>\n",
       "      <td>1</td>\n",
       "      <td>2</td>\n",
       "      <td>1.859098</td>\n",
       "      <td>1.736502</td>\n",
       "      <td>0</td>\n",
       "    </tr>\n",
       "    <tr>\n",
       "      <th>3</th>\n",
       "      <td>0</td>\n",
       "      <td>1</td>\n",
       "      <td>1</td>\n",
       "      <td>1</td>\n",
       "      <td>1</td>\n",
       "      <td>12</td>\n",
       "      <td>1</td>\n",
       "      <td>33</td>\n",
       "      <td>62.669863</td>\n",
       "      <td>12</td>\n",
       "      <td>2</td>\n",
       "      <td>3.205633</td>\n",
       "      <td>3.357215</td>\n",
       "      <td>0</td>\n",
       "    </tr>\n",
       "    <tr>\n",
       "      <th>4</th>\n",
       "      <td>1</td>\n",
       "      <td>1</td>\n",
       "      <td>1</td>\n",
       "      <td>1</td>\n",
       "      <td>1</td>\n",
       "      <td>1</td>\n",
       "      <td>0</td>\n",
       "      <td>26</td>\n",
       "      <td>198.362265</td>\n",
       "      <td>1</td>\n",
       "      <td>3</td>\n",
       "      <td>1.113884</td>\n",
       "      <td>1.120078</td>\n",
       "      <td>0</td>\n",
       "    </tr>\n",
       "  </tbody>\n",
       "</table>\n",
       "</div>"
      ],
      "text/plain": [
       "   gender  near_location  partner  promo_friends  phone  contract_period  \\\n",
       "0       1              1        1              1      0                6   \n",
       "1       0              1        0              0      1               12   \n",
       "2       0              1        1              0      1                1   \n",
       "3       0              1        1              1      1               12   \n",
       "4       1              1        1              1      1                1   \n",
       "\n",
       "   group_visits  age  avg_additional_charges_total  month_to_end_contract  \\\n",
       "0             1   29                     14.227470                      5   \n",
       "1             1   31                    113.202938                     12   \n",
       "2             0   28                    129.448479                      1   \n",
       "3             1   33                     62.669863                     12   \n",
       "4             0   26                    198.362265                      1   \n",
       "\n",
       "   lifetime  avg_class_frequency_total  avg_class_frequency_current_month  \\\n",
       "0         3                   0.020398                           0.000000   \n",
       "1         7                   1.922936                           1.910244   \n",
       "2         2                   1.859098                           1.736502   \n",
       "3         2                   3.205633                           3.357215   \n",
       "4         3                   1.113884                           1.120078   \n",
       "\n",
       "   churn  \n",
       "0      0  \n",
       "1      0  \n",
       "2      0  \n",
       "3      0  \n",
       "4      0  "
      ]
     },
     "execution_count": 4,
     "metadata": {},
     "output_type": "execute_result"
    }
   ],
   "source": [
    "cols = data.columns.str.lower().tolist()  # список всех столбцов\n",
    "data.columns = cols # передаем список названия столбцов в исходную таблицу\n",
    "data['month_to_end_contract'] = data['month_to_end_contract'].astype('int')\n",
    "data.head()"
   ]
  },
  {
   "cell_type": "code",
   "execution_count": 5,
   "metadata": {},
   "outputs": [
    {
     "name": "stdout",
     "output_type": "stream",
     "text": [
      "<class 'pandas.core.frame.DataFrame'>\n",
      "RangeIndex: 4000 entries, 0 to 3999\n",
      "Data columns (total 14 columns):\n",
      " #   Column                             Non-Null Count  Dtype  \n",
      "---  ------                             --------------  -----  \n",
      " 0   gender                             4000 non-null   bool   \n",
      " 1   near_location                      4000 non-null   bool   \n",
      " 2   partner                            4000 non-null   bool   \n",
      " 3   promo_friends                      4000 non-null   bool   \n",
      " 4   phone                              4000 non-null   bool   \n",
      " 5   contract_period                    4000 non-null   int64  \n",
      " 6   group_visits                       4000 non-null   bool   \n",
      " 7   age                                4000 non-null   int64  \n",
      " 8   avg_additional_charges_total       4000 non-null   float64\n",
      " 9   month_to_end_contract              4000 non-null   int64  \n",
      " 10  lifetime                           4000 non-null   int64  \n",
      " 11  avg_class_frequency_total          4000 non-null   float64\n",
      " 12  avg_class_frequency_current_month  4000 non-null   float64\n",
      " 13  churn                              4000 non-null   bool   \n",
      "dtypes: bool(7), float64(3), int64(4)\n",
      "memory usage: 246.2 KB\n"
     ]
    }
   ],
   "source": [
    "data[['gender','near_location', 'partner', 'promo_friends', 'phone', 'group_visits', 'churn']] = \\\n",
    "            data[['gender','near_location', 'partner', 'promo_friends', 'phone', 'group_visits', 'churn']].astype('bool')\n",
    "data.info()"
   ]
  },
  {
   "cell_type": "markdown",
   "metadata": {},
   "source": [
    "**Выводы из полученных результатов по предобработке данных:**\n",
    "1. Данные чистые, нет дубликатов, пропусков, выбросов (минимальное и максимальные значиение соответсвуют бинарным показателям 0 и 1).\n",
    "2. У нас имеется исходная информация о данных пользователя за предыдущий до проверки факта оттока месяц, информация на основе журнала посещений, покупок, а также информация о текущем статусе абонемента клиента.\n",
    "3.  Данные представлены в виде таблицы, включающей в себя 4 000 строк и 14 столбцов.\n",
    "\n"
   ]
  },
  {
   "cell_type": "markdown",
   "metadata": {},
   "source": [
    "## Исследовательский анализ данных (EDA)\n",
    "### Изучение и проверка данных\n"
   ]
  },
  {
   "cell_type": "code",
   "execution_count": 6,
   "metadata": {
    "scrolled": true
   },
   "outputs": [
    {
     "data": {
      "text/html": [
       "<div>\n",
       "<style scoped>\n",
       "    .dataframe tbody tr th:only-of-type {\n",
       "        vertical-align: middle;\n",
       "    }\n",
       "\n",
       "    .dataframe tbody tr th {\n",
       "        vertical-align: top;\n",
       "    }\n",
       "\n",
       "    .dataframe thead th {\n",
       "        text-align: right;\n",
       "    }\n",
       "</style>\n",
       "<table border=\"1\" class=\"dataframe\">\n",
       "  <thead>\n",
       "    <tr style=\"text-align: right;\">\n",
       "      <th></th>\n",
       "      <th>contract_period</th>\n",
       "      <th>age</th>\n",
       "      <th>avg_additional_charges_total</th>\n",
       "      <th>month_to_end_contract</th>\n",
       "      <th>lifetime</th>\n",
       "      <th>avg_class_frequency_total</th>\n",
       "      <th>avg_class_frequency_current_month</th>\n",
       "    </tr>\n",
       "  </thead>\n",
       "  <tbody>\n",
       "    <tr>\n",
       "      <th>count</th>\n",
       "      <td>4000.000000</td>\n",
       "      <td>4000.000000</td>\n",
       "      <td>4000.000000</td>\n",
       "      <td>4000.000000</td>\n",
       "      <td>4000.000000</td>\n",
       "      <td>4000.000000</td>\n",
       "      <td>4000.000000</td>\n",
       "    </tr>\n",
       "    <tr>\n",
       "      <th>mean</th>\n",
       "      <td>4.681250</td>\n",
       "      <td>29.184250</td>\n",
       "      <td>146.943728</td>\n",
       "      <td>4.322750</td>\n",
       "      <td>3.724750</td>\n",
       "      <td>1.879020</td>\n",
       "      <td>1.767052</td>\n",
       "    </tr>\n",
       "    <tr>\n",
       "      <th>std</th>\n",
       "      <td>4.549706</td>\n",
       "      <td>3.258367</td>\n",
       "      <td>96.355602</td>\n",
       "      <td>4.191297</td>\n",
       "      <td>3.749267</td>\n",
       "      <td>0.972245</td>\n",
       "      <td>1.052906</td>\n",
       "    </tr>\n",
       "    <tr>\n",
       "      <th>min</th>\n",
       "      <td>1.000000</td>\n",
       "      <td>18.000000</td>\n",
       "      <td>0.148205</td>\n",
       "      <td>1.000000</td>\n",
       "      <td>0.000000</td>\n",
       "      <td>0.000000</td>\n",
       "      <td>0.000000</td>\n",
       "    </tr>\n",
       "    <tr>\n",
       "      <th>25%</th>\n",
       "      <td>1.000000</td>\n",
       "      <td>27.000000</td>\n",
       "      <td>68.868830</td>\n",
       "      <td>1.000000</td>\n",
       "      <td>1.000000</td>\n",
       "      <td>1.180875</td>\n",
       "      <td>0.963003</td>\n",
       "    </tr>\n",
       "    <tr>\n",
       "      <th>50%</th>\n",
       "      <td>1.000000</td>\n",
       "      <td>29.000000</td>\n",
       "      <td>136.220159</td>\n",
       "      <td>1.000000</td>\n",
       "      <td>3.000000</td>\n",
       "      <td>1.832768</td>\n",
       "      <td>1.719574</td>\n",
       "    </tr>\n",
       "    <tr>\n",
       "      <th>75%</th>\n",
       "      <td>6.000000</td>\n",
       "      <td>31.000000</td>\n",
       "      <td>210.949625</td>\n",
       "      <td>6.000000</td>\n",
       "      <td>5.000000</td>\n",
       "      <td>2.536078</td>\n",
       "      <td>2.510336</td>\n",
       "    </tr>\n",
       "    <tr>\n",
       "      <th>max</th>\n",
       "      <td>12.000000</td>\n",
       "      <td>41.000000</td>\n",
       "      <td>552.590740</td>\n",
       "      <td>12.000000</td>\n",
       "      <td>31.000000</td>\n",
       "      <td>6.023668</td>\n",
       "      <td>6.146783</td>\n",
       "    </tr>\n",
       "  </tbody>\n",
       "</table>\n",
       "</div>"
      ],
      "text/plain": [
       "       contract_period          age  avg_additional_charges_total  \\\n",
       "count      4000.000000  4000.000000                   4000.000000   \n",
       "mean          4.681250    29.184250                    146.943728   \n",
       "std           4.549706     3.258367                     96.355602   \n",
       "min           1.000000    18.000000                      0.148205   \n",
       "25%           1.000000    27.000000                     68.868830   \n",
       "50%           1.000000    29.000000                    136.220159   \n",
       "75%           6.000000    31.000000                    210.949625   \n",
       "max          12.000000    41.000000                    552.590740   \n",
       "\n",
       "       month_to_end_contract     lifetime  avg_class_frequency_total  \\\n",
       "count            4000.000000  4000.000000                4000.000000   \n",
       "mean                4.322750     3.724750                   1.879020   \n",
       "std                 4.191297     3.749267                   0.972245   \n",
       "min                 1.000000     0.000000                   0.000000   \n",
       "25%                 1.000000     1.000000                   1.180875   \n",
       "50%                 1.000000     3.000000                   1.832768   \n",
       "75%                 6.000000     5.000000                   2.536078   \n",
       "max                12.000000    31.000000                   6.023668   \n",
       "\n",
       "       avg_class_frequency_current_month  \n",
       "count                        4000.000000  \n",
       "mean                            1.767052  \n",
       "std                             1.052906  \n",
       "min                             0.000000  \n",
       "25%                             0.963003  \n",
       "50%                             1.719574  \n",
       "75%                             2.510336  \n",
       "max                             6.146783  "
      ]
     },
     "execution_count": 6,
     "metadata": {},
     "output_type": "execute_result"
    }
   ],
   "source": [
    "data.describe()"
   ]
  },
  {
   "cell_type": "markdown",
   "metadata": {},
   "source": [
    "**По данной таблице мы видим, что:**\n",
    "\n",
    "1. Средний возраст клиентов 29 лет.\n",
    "2. Выручка от прочих услуг фитнес центра (`avg_additional_charges_total`) по медиане (136,22) по средей (146,94)\n",
    "3. Средняя длительность действующего абонемента составляет 4-5 месяцев. При этом есть перекос в данных: для большинства срок действующего абонемента равен 1 месяцу.\n",
    "4. В среднем клиенты посещают \"зал\" 2 раза в неделю (в текущем и предыдущем месяцах).\n",
    "5. Большинство клиентов задерживаются в зале не дольше 3 месяцев, об этом нам свидетельсвует описание столбца `lifetime`\n",
    "6.  У нас имеются данные о мужчинах и женщинах, которые обозначаются 0 и 1. При этом в выборке их равное количество (так как выборка имеет чётное число данных, средняя близка к 0,5, а медианное значение равно 1).\n",
    "7. В таблице указаны данные о людях, живущих рядом и вдали от фитнес-центра. Категории обозначаются 0 и 1. При этом в выборке больше тех, кто живёт или работает рядом (так как средняя близка к 0,85, а первый квартиль равен 1).\n",
    "8. Поговорим о людях, которые приобрели или не приобрели первый абонемент по акции \"Приведи друга\". Категории обозначаются 0 и 1. При этом в выборке больше тех, кто пришёл НЕ по акции (так как средняя близка к 0,3, а медиана равна 0).\n",
    "9. В выборке больше тех, кто предоставлял контактную информацию.\n",
    "10. У нас есть данные о клиентах, которые посещают групповые занятия (значение 1) или не посещают (значение 0). При этом в выборке чуть больше тех, кто не посещает такие занятия (средняя близка к 0,4, а медиана равна 0).\n",
    "11. Также, исходя из полученных данных, мы можем сделать вывод, что те, кто продолжают (значение 0) пользоваться услугами центра больше, чем тех, кто ушел (значение 1). Средняя близка к 0,3, а медиана равна 0.\n",
    "### Анализ средних значений показателей\n"
   ]
  },
  {
   "cell_type": "code",
   "execution_count": 7,
   "metadata": {},
   "outputs": [
    {
     "data": {
      "text/html": [
       "<div>\n",
       "<style scoped>\n",
       "    .dataframe tbody tr th:only-of-type {\n",
       "        vertical-align: middle;\n",
       "    }\n",
       "\n",
       "    .dataframe tbody tr th {\n",
       "        vertical-align: top;\n",
       "    }\n",
       "\n",
       "    .dataframe thead th {\n",
       "        text-align: right;\n",
       "    }\n",
       "</style>\n",
       "<table border=\"1\" class=\"dataframe\">\n",
       "  <thead>\n",
       "    <tr style=\"text-align: right;\">\n",
       "      <th>churn</th>\n",
       "      <th>False</th>\n",
       "      <th>True</th>\n",
       "    </tr>\n",
       "  </thead>\n",
       "  <tbody>\n",
       "    <tr>\n",
       "      <th>gender</th>\n",
       "      <td>0.510037</td>\n",
       "      <td>0.510839</td>\n",
       "    </tr>\n",
       "    <tr>\n",
       "      <th>near_location</th>\n",
       "      <td>0.873086</td>\n",
       "      <td>0.768143</td>\n",
       "    </tr>\n",
       "    <tr>\n",
       "      <th>partner</th>\n",
       "      <td>0.534195</td>\n",
       "      <td>0.355325</td>\n",
       "    </tr>\n",
       "    <tr>\n",
       "      <th>promo_friends</th>\n",
       "      <td>0.353522</td>\n",
       "      <td>0.183789</td>\n",
       "    </tr>\n",
       "    <tr>\n",
       "      <th>phone</th>\n",
       "      <td>0.903709</td>\n",
       "      <td>0.902922</td>\n",
       "    </tr>\n",
       "    <tr>\n",
       "      <th>contract_period</th>\n",
       "      <td>5.747193</td>\n",
       "      <td>1.728558</td>\n",
       "    </tr>\n",
       "    <tr>\n",
       "      <th>group_visits</th>\n",
       "      <td>0.464103</td>\n",
       "      <td>0.268615</td>\n",
       "    </tr>\n",
       "    <tr>\n",
       "      <th>age</th>\n",
       "      <td>29.976523</td>\n",
       "      <td>26.989632</td>\n",
       "    </tr>\n",
       "    <tr>\n",
       "      <th>avg_additional_charges_total</th>\n",
       "      <td>158.445715</td>\n",
       "      <td>115.082899</td>\n",
       "    </tr>\n",
       "    <tr>\n",
       "      <th>month_to_end_contract</th>\n",
       "      <td>5.283089</td>\n",
       "      <td>1.662582</td>\n",
       "    </tr>\n",
       "    <tr>\n",
       "      <th>lifetime</th>\n",
       "      <td>4.711807</td>\n",
       "      <td>0.990575</td>\n",
       "    </tr>\n",
       "    <tr>\n",
       "      <th>avg_class_frequency_total</th>\n",
       "      <td>2.024876</td>\n",
       "      <td>1.474995</td>\n",
       "    </tr>\n",
       "    <tr>\n",
       "      <th>avg_class_frequency_current_month</th>\n",
       "      <td>2.027882</td>\n",
       "      <td>1.044546</td>\n",
       "    </tr>\n",
       "  </tbody>\n",
       "</table>\n",
       "</div>"
      ],
      "text/plain": [
       "churn                                   False       True \n",
       "gender                               0.510037    0.510839\n",
       "near_location                        0.873086    0.768143\n",
       "partner                              0.534195    0.355325\n",
       "promo_friends                        0.353522    0.183789\n",
       "phone                                0.903709    0.902922\n",
       "contract_period                      5.747193    1.728558\n",
       "group_visits                         0.464103    0.268615\n",
       "age                                 29.976523   26.989632\n",
       "avg_additional_charges_total       158.445715  115.082899\n",
       "month_to_end_contract                5.283089    1.662582\n",
       "lifetime                             4.711807    0.990575\n",
       "avg_class_frequency_total            2.024876    1.474995\n",
       "avg_class_frequency_current_month    2.027882    1.044546"
      ]
     },
     "execution_count": 7,
     "metadata": {},
     "output_type": "execute_result"
    }
   ],
   "source": [
    "data.groupby('churn').mean().T"
   ]
  },
  {
   "cell_type": "markdown",
   "metadata": {},
   "source": [
    "- *По полу* у нас имеется примерно равное количество человек разного пола в двух группах.\n",
    "- По *близости к фитнес-центру* в группе, которая лояльна к фитнес-центру чуть больше людей, которые живут или работают поблизости, чем тех, кто находится в отдалённости.\n",
    "- Есть различия в оттоке между теми, кто является *сотрудником компании-партнёра клуба*. Среди тех, кто остался примерно половина и тех, кто связан с партнёрами, и тех, кто не связан, с небольшим преобладанием первых. Но из тех, кто ушёл в отток, больше клиентов, не связанных с компанией-партнёром.\n",
    "- В обеих группах больше людей, которые приобрели первый абонемент не по *промо-акции \"Приведи друга\"*. Но среди тех, кто остался, пришедших по промо-акции больше.\n",
    "- Нет различий между группами в наличии *контактного телефона клиентов*.\n",
    "- Длительность действующего абонемента по оставшимся пользователям в среднем около 5-6 месяцев, а по ушедшим - 1-2 месяца. Это говорит о том, что купившие длительный абонемент с большей неохотой уйдут в отток, чем те, у кого он действует на короткий срок.\n",
    "- *Посещение групповых занятий* по выделенным группам также отличается: среди оставшихся клиентов распределение посещающих такие занятия и непосещающих примерно равномерно (вторых чуть больше); но среди тех, кто ушёл в отток, непосещающих групповые занятия значительно больше, чем тех, кто их посещает.\n",
    "- В группе лояльных фитнес-центру людей *средний возраст* составляет около 30 лет, а среди уходящих - около 27 лет. То есть вторая группа чуть младше.\n",
    "- Средняя выручка от других услуг фитнес-центра между группами разнится на 43 ден.ед. (в группе лояльных она выше, чем в группе уходящих).\n",
    "- В среднем *срок до окончания действующего абонемента* у людей, ушедших в отток около 1-2 месяцев, а у оставшихся клиентов - около 5 месяцев. Это снова указывает на то, что уходят в большей степени те, у кого длительность оставшегося абонемента невысока.\n",
    "- *Время с момента первого обращения* для уходящих в отток равно 1 месяцу, а для тех, кто остался, близко к 5 месяцам. Таким образом, лояльные первые месяцы клиенты, скорее всего, не уйдут в отток после длительного периода пользования услугами фитнес-центра.\n",
    "- *Средняя частота посещений* в неделю за время действия абонемента в группах не сильно отличается. Лояльные клиенты в среднем посещают центр 2 раза в неделю, а ушедшие - от 1 до 2.\n",
    "- Разница между группами в *средней частоте посещений* в неделю за месяц также не сильно высока: не ушедшие в отток клиенты в среднем посещали фитнес-клуб 2 раза в неделю, а ушедшие в отток - 1 раз в неделю.\n",
    "\n",
    "### График распределения признаков\n",
    "Для удобства разобьем признаки по типу \"bool\" и не \"bool\"."
   ]
  },
  {
   "cell_type": "code",
   "execution_count": 8,
   "metadata": {},
   "outputs": [],
   "source": [
    "bool_features = [] \n",
    "dig_features = []\n",
    "\n",
    "for col in (data.columns.tolist()):\n",
    "    if data[col].dtype == 'bool':\n",
    "        bool_features.append(col)\n",
    "    else:\n",
    "        dig_features.append(col)\n",
    "bool_features.remove('churn')"
   ]
  },
  {
   "cell_type": "code",
   "execution_count": 9,
   "metadata": {},
   "outputs": [
    {
     "data": {
      "image/png": "[encoded data removed]",
      "text/plain": [
       "<Figure size 720x792 with 6 Axes>"
      ]
     },
     "metadata": {
      "needs_background": "light"
     },
     "output_type": "display_data"
    }
   ],
   "source": [
    "fig, axes = plt.subplots(nrows=2, ncols=3, figsize=(10,11))\n",
    "axes_list = [item for sublist in axes for item in sublist]\n",
    "fig.tight_layout(pad=5.0)\n",
    "fig.suptitle('Распределение булевых признаков', fontsize=16)\n",
    "for feature in bool_features:\n",
    "    ax = axes_list.pop(0)\n",
    "    sns.distplot(data.query('churn == 1')[feature].astype(int), bins=4, ax=ax, kde=False, color='g',label='ушли-1')\n",
    "    sns.distplot(data.query('churn == 0')[feature].astype(int), bins=4, ax=ax, kde=False, color='y',label='остались-0')\n",
    "    ax.set_xticks([0,1])\n",
    "    ax.set_xlabel(feature, fontsize=12)\n",
    "    ax.set_ylabel('Кол-во записей', fontsize=12)\n",
    "    ax.legend()\n",
    "plt.show()"
   ]
  },
  {
   "cell_type": "markdown",
   "metadata": {},
   "source": [
    "Теперь построим распределение осальных признаков"
   ]
  },
  {
   "cell_type": "code",
   "execution_count": 10,
   "metadata": {},
   "outputs": [
    {
     "data": {
      "image/png": "[encoded data removed]",
      "text/plain": [
       "<Figure size 864x864 with 8 Axes>"
      ]
     },
     "metadata": {
      "needs_background": "light"
     },
     "output_type": "display_data"
    }
   ],
   "source": [
    "fig, axes = plt.subplots(nrows=4, ncols=2, figsize=(12,12))\n",
    "axes_list = [item for sublist in axes for item in sublist]\n",
    "fig.tight_layout(pad=5.0)\n",
    "fig.suptitle('Распределение не булевых признаков', fontsize=16)\n",
    "for feature in dig_features:\n",
    "    ax = axes_list.pop(0)\n",
    "    sns.distplot(data.query('churn == 1')[feature], bins=10, ax=ax, kde=False, color='g',label='ушли-1')\n",
    "    sns.distplot(data.query('churn == 0')[feature], bins=10, ax=ax, kde=False, color='y',label='остались-0')\n",
    "    ax.set_xlabel(feature, fontsize=11)\n",
    "    ax.set_ylabel('Кол-во записей', fontsize=12)\n",
    "    ax.legend()\n",
    "plt.show()"
   ]
  },
  {
   "cell_type": "markdown",
   "metadata": {},
   "source": [
    "1. По полу, близости к фитнес-центру, наличию контактного телефона обе группы имеют схожее равномерное распределение.\n",
    "2. В группе лояльных клиентов число имеющих отношение к компании-партнёра сотрудников явно больше, чем среди тех, кто уходит в отток. Различия в распределении групп по посещению групповых занятий такие же, как и в распределениях по принадлежности к компании-партнёру.\n",
    "3. Среди тех, кто остался, по промо-акции \"Приведи друга\" клиентов немного больше, но распределения схожи.\n",
    "4. Лояльных клиентов, приобретающих абонемент на 1 месяц больше всего, меньше их сроком на год, и наименьшее количество клиентов - на 6 месяцев. А для ушедших в отток 1 месяц - самый популярный, затем - 6 месяцев (с очень низким числом абонементов), и практически нет абонементов на 12 месяцев. Различия в распределении групп по сроку до окончания действующего абонемента такие же, как и в распределениях по длительности абонемента.\n",
    "5. По среднему возрасту обе группы имеют нормальное распределение, но датасет лояльных клиентов немного смещён вправо, а датасет ушедших клиентов - влево.\n",
    "6. Распределение средней выручки от других услуг фитнес-центра для обоих датасетов смещено влево с большим смещением для ушедших людей. То есть те, кто уходит, практически ничего не тратят на дополнительные услуги в фитнес-центре.\n",
    "7. Распределение времени с момента первого обращения для обоих групп похоже на распределение Пуассона. Но для ушедших в отток клиентов оно сильно смещено влево, практически не имея значения в более высоких значениях, а для лояльных клиентов принимает более высокие значения.\n",
    "8. Распределение для средней частоты посещений в неделю за время действия абонемента в обоих группах является нормальным. \n",
    "\n",
    "### Матрица корелляций\n"
   ]
  },
  {
   "cell_type": "code",
   "execution_count": 11,
   "metadata": {},
   "outputs": [
    {
     "data": {
      "text/html": [
       "<div>\n",
       "<style scoped>\n",
       "    .dataframe tbody tr th:only-of-type {\n",
       "        vertical-align: middle;\n",
       "    }\n",
       "\n",
       "    .dataframe tbody tr th {\n",
       "        vertical-align: top;\n",
       "    }\n",
       "\n",
       "    .dataframe thead th {\n",
       "        text-align: right;\n",
       "    }\n",
       "</style>\n",
       "<table border=\"1\" class=\"dataframe\">\n",
       "  <thead>\n",
       "    <tr style=\"text-align: right;\">\n",
       "      <th></th>\n",
       "      <th>gender</th>\n",
       "      <th>near_location</th>\n",
       "      <th>partner</th>\n",
       "      <th>promo_friends</th>\n",
       "      <th>phone</th>\n",
       "      <th>contract_period</th>\n",
       "      <th>group_visits</th>\n",
       "      <th>age</th>\n",
       "      <th>avg_additional_charges_total</th>\n",
       "      <th>month_to_end_contract</th>\n",
       "      <th>lifetime</th>\n",
       "      <th>avg_class_frequency_total</th>\n",
       "      <th>avg_class_frequency_current_month</th>\n",
       "      <th>churn</th>\n",
       "    </tr>\n",
       "  </thead>\n",
       "  <tbody>\n",
       "    <tr>\n",
       "      <th>gender</th>\n",
       "      <td>1.000000</td>\n",
       "      <td>0.006699</td>\n",
       "      <td>-0.010463</td>\n",
       "      <td>-0.005033</td>\n",
       "      <td>-0.008542</td>\n",
       "      <td>0.000502</td>\n",
       "      <td>0.017879</td>\n",
       "      <td>0.013807</td>\n",
       "      <td>-0.009334</td>\n",
       "      <td>-0.001281</td>\n",
       "      <td>0.013579</td>\n",
       "      <td>0.014620</td>\n",
       "      <td>0.009156</td>\n",
       "      <td>0.000708</td>\n",
       "    </tr>\n",
       "    <tr>\n",
       "      <th>near_location</th>\n",
       "      <td>0.006699</td>\n",
       "      <td>1.000000</td>\n",
       "      <td>-0.005119</td>\n",
       "      <td>0.210964</td>\n",
       "      <td>-0.015763</td>\n",
       "      <td>0.150233</td>\n",
       "      <td>0.154728</td>\n",
       "      <td>0.058358</td>\n",
       "      <td>0.040761</td>\n",
       "      <td>0.143961</td>\n",
       "      <td>0.070921</td>\n",
       "      <td>0.043127</td>\n",
       "      <td>0.062664</td>\n",
       "      <td>-0.128098</td>\n",
       "    </tr>\n",
       "    <tr>\n",
       "      <th>partner</th>\n",
       "      <td>-0.010463</td>\n",
       "      <td>-0.005119</td>\n",
       "      <td>1.000000</td>\n",
       "      <td>0.451960</td>\n",
       "      <td>0.009970</td>\n",
       "      <td>0.306166</td>\n",
       "      <td>0.022710</td>\n",
       "      <td>0.047480</td>\n",
       "      <td>0.022941</td>\n",
       "      <td>0.294632</td>\n",
       "      <td>0.061229</td>\n",
       "      <td>0.024938</td>\n",
       "      <td>0.045561</td>\n",
       "      <td>-0.157986</td>\n",
       "    </tr>\n",
       "    <tr>\n",
       "      <th>promo_friends</th>\n",
       "      <td>-0.005033</td>\n",
       "      <td>0.210964</td>\n",
       "      <td>0.451960</td>\n",
       "      <td>1.000000</td>\n",
       "      <td>0.001982</td>\n",
       "      <td>0.244552</td>\n",
       "      <td>0.120170</td>\n",
       "      <td>0.050113</td>\n",
       "      <td>0.036898</td>\n",
       "      <td>0.239553</td>\n",
       "      <td>0.072721</td>\n",
       "      <td>0.028063</td>\n",
       "      <td>0.053768</td>\n",
       "      <td>-0.162233</td>\n",
       "    </tr>\n",
       "    <tr>\n",
       "      <th>phone</th>\n",
       "      <td>-0.008542</td>\n",
       "      <td>-0.015763</td>\n",
       "      <td>0.009970</td>\n",
       "      <td>0.001982</td>\n",
       "      <td>1.000000</td>\n",
       "      <td>-0.006893</td>\n",
       "      <td>-0.010099</td>\n",
       "      <td>-0.011403</td>\n",
       "      <td>0.009279</td>\n",
       "      <td>-0.011196</td>\n",
       "      <td>-0.018801</td>\n",
       "      <td>0.008340</td>\n",
       "      <td>0.013375</td>\n",
       "      <td>-0.001177</td>\n",
       "    </tr>\n",
       "    <tr>\n",
       "      <th>contract_period</th>\n",
       "      <td>0.000502</td>\n",
       "      <td>0.150233</td>\n",
       "      <td>0.306166</td>\n",
       "      <td>0.244552</td>\n",
       "      <td>-0.006893</td>\n",
       "      <td>1.000000</td>\n",
       "      <td>0.169991</td>\n",
       "      <td>0.138249</td>\n",
       "      <td>0.111445</td>\n",
       "      <td>0.973064</td>\n",
       "      <td>0.170725</td>\n",
       "      <td>0.096211</td>\n",
       "      <td>0.159407</td>\n",
       "      <td>-0.389984</td>\n",
       "    </tr>\n",
       "    <tr>\n",
       "      <th>group_visits</th>\n",
       "      <td>0.017879</td>\n",
       "      <td>0.154728</td>\n",
       "      <td>0.022710</td>\n",
       "      <td>0.120170</td>\n",
       "      <td>-0.010099</td>\n",
       "      <td>0.169991</td>\n",
       "      <td>1.000000</td>\n",
       "      <td>0.080934</td>\n",
       "      <td>0.032079</td>\n",
       "      <td>0.163703</td>\n",
       "      <td>0.075853</td>\n",
       "      <td>0.056695</td>\n",
       "      <td>0.075923</td>\n",
       "      <td>-0.175325</td>\n",
       "    </tr>\n",
       "    <tr>\n",
       "      <th>age</th>\n",
       "      <td>0.013807</td>\n",
       "      <td>0.058358</td>\n",
       "      <td>0.047480</td>\n",
       "      <td>0.050113</td>\n",
       "      <td>-0.011403</td>\n",
       "      <td>0.138249</td>\n",
       "      <td>0.080934</td>\n",
       "      <td>1.000000</td>\n",
       "      <td>0.080240</td>\n",
       "      <td>0.134511</td>\n",
       "      <td>0.164693</td>\n",
       "      <td>0.119953</td>\n",
       "      <td>0.183095</td>\n",
       "      <td>-0.404735</td>\n",
       "    </tr>\n",
       "    <tr>\n",
       "      <th>avg_additional_charges_total</th>\n",
       "      <td>-0.009334</td>\n",
       "      <td>0.040761</td>\n",
       "      <td>0.022941</td>\n",
       "      <td>0.036898</td>\n",
       "      <td>0.009279</td>\n",
       "      <td>0.111445</td>\n",
       "      <td>0.032079</td>\n",
       "      <td>0.080240</td>\n",
       "      <td>1.000000</td>\n",
       "      <td>0.113958</td>\n",
       "      <td>0.079028</td>\n",
       "      <td>0.044426</td>\n",
       "      <td>0.079570</td>\n",
       "      <td>-0.198697</td>\n",
       "    </tr>\n",
       "    <tr>\n",
       "      <th>month_to_end_contract</th>\n",
       "      <td>-0.001281</td>\n",
       "      <td>0.143961</td>\n",
       "      <td>0.294632</td>\n",
       "      <td>0.239553</td>\n",
       "      <td>-0.011196</td>\n",
       "      <td>0.973064</td>\n",
       "      <td>0.163703</td>\n",
       "      <td>0.134511</td>\n",
       "      <td>0.113958</td>\n",
       "      <td>1.000000</td>\n",
       "      <td>0.161078</td>\n",
       "      <td>0.085387</td>\n",
       "      <td>0.147605</td>\n",
       "      <td>-0.381393</td>\n",
       "    </tr>\n",
       "    <tr>\n",
       "      <th>lifetime</th>\n",
       "      <td>0.013579</td>\n",
       "      <td>0.070921</td>\n",
       "      <td>0.061229</td>\n",
       "      <td>0.072721</td>\n",
       "      <td>-0.018801</td>\n",
       "      <td>0.170725</td>\n",
       "      <td>0.075853</td>\n",
       "      <td>0.164693</td>\n",
       "      <td>0.079028</td>\n",
       "      <td>0.161078</td>\n",
       "      <td>1.000000</td>\n",
       "      <td>0.112338</td>\n",
       "      <td>0.181975</td>\n",
       "      <td>-0.438220</td>\n",
       "    </tr>\n",
       "    <tr>\n",
       "      <th>avg_class_frequency_total</th>\n",
       "      <td>0.014620</td>\n",
       "      <td>0.043127</td>\n",
       "      <td>0.024938</td>\n",
       "      <td>0.028063</td>\n",
       "      <td>0.008340</td>\n",
       "      <td>0.096211</td>\n",
       "      <td>0.056695</td>\n",
       "      <td>0.119953</td>\n",
       "      <td>0.044426</td>\n",
       "      <td>0.085387</td>\n",
       "      <td>0.112338</td>\n",
       "      <td>1.000000</td>\n",
       "      <td>0.952739</td>\n",
       "      <td>-0.249715</td>\n",
       "    </tr>\n",
       "    <tr>\n",
       "      <th>avg_class_frequency_current_month</th>\n",
       "      <td>0.009156</td>\n",
       "      <td>0.062664</td>\n",
       "      <td>0.045561</td>\n",
       "      <td>0.053768</td>\n",
       "      <td>0.013375</td>\n",
       "      <td>0.159407</td>\n",
       "      <td>0.075923</td>\n",
       "      <td>0.183095</td>\n",
       "      <td>0.079570</td>\n",
       "      <td>0.147605</td>\n",
       "      <td>0.181975</td>\n",
       "      <td>0.952739</td>\n",
       "      <td>1.000000</td>\n",
       "      <td>-0.412348</td>\n",
       "    </tr>\n",
       "    <tr>\n",
       "      <th>churn</th>\n",
       "      <td>0.000708</td>\n",
       "      <td>-0.128098</td>\n",
       "      <td>-0.157986</td>\n",
       "      <td>-0.162233</td>\n",
       "      <td>-0.001177</td>\n",
       "      <td>-0.389984</td>\n",
       "      <td>-0.175325</td>\n",
       "      <td>-0.404735</td>\n",
       "      <td>-0.198697</td>\n",
       "      <td>-0.381393</td>\n",
       "      <td>-0.438220</td>\n",
       "      <td>-0.249715</td>\n",
       "      <td>-0.412348</td>\n",
       "      <td>1.000000</td>\n",
       "    </tr>\n",
       "  </tbody>\n",
       "</table>\n",
       "</div>"
      ],
      "text/plain": [
       "                                     gender  near_location   partner  \\\n",
       "gender                             1.000000       0.006699 -0.010463   \n",
       "near_location                      0.006699       1.000000 -0.005119   \n",
       "partner                           -0.010463      -0.005119  1.000000   \n",
       "promo_friends                     -0.005033       0.210964  0.451960   \n",
       "phone                             -0.008542      -0.015763  0.009970   \n",
       "contract_period                    0.000502       0.150233  0.306166   \n",
       "group_visits                       0.017879       0.154728  0.022710   \n",
       "age                                0.013807       0.058358  0.047480   \n",
       "avg_additional_charges_total      -0.009334       0.040761  0.022941   \n",
       "month_to_end_contract             -0.001281       0.143961  0.294632   \n",
       "lifetime                           0.013579       0.070921  0.061229   \n",
       "avg_class_frequency_total          0.014620       0.043127  0.024938   \n",
       "avg_class_frequency_current_month  0.009156       0.062664  0.045561   \n",
       "churn                              0.000708      -0.128098 -0.157986   \n",
       "\n",
       "                                   promo_friends     phone  contract_period  \\\n",
       "gender                                 -0.005033 -0.008542         0.000502   \n",
       "near_location                           0.210964 -0.015763         0.150233   \n",
       "partner                                 0.451960  0.009970         0.306166   \n",
       "promo_friends                           1.000000  0.001982         0.244552   \n",
       "phone                                   0.001982  1.000000        -0.006893   \n",
       "contract_period                         0.244552 -0.006893         1.000000   \n",
       "group_visits                            0.120170 -0.010099         0.169991   \n",
       "age                                     0.050113 -0.011403         0.138249   \n",
       "avg_additional_charges_total            0.036898  0.009279         0.111445   \n",
       "month_to_end_contract                   0.239553 -0.011196         0.973064   \n",
       "lifetime                                0.072721 -0.018801         0.170725   \n",
       "avg_class_frequency_total               0.028063  0.008340         0.096211   \n",
       "avg_class_frequency_current_month       0.053768  0.013375         0.159407   \n",
       "churn                                  -0.162233 -0.001177        -0.389984   \n",
       "\n",
       "                                   group_visits       age  \\\n",
       "gender                                 0.017879  0.013807   \n",
       "near_location                          0.154728  0.058358   \n",
       "partner                                0.022710  0.047480   \n",
       "promo_friends                          0.120170  0.050113   \n",
       "phone                                 -0.010099 -0.011403   \n",
       "contract_period                        0.169991  0.138249   \n",
       "group_visits                           1.000000  0.080934   \n",
       "age                                    0.080934  1.000000   \n",
       "avg_additional_charges_total           0.032079  0.080240   \n",
       "month_to_end_contract                  0.163703  0.134511   \n",
       "lifetime                               0.075853  0.164693   \n",
       "avg_class_frequency_total              0.056695  0.119953   \n",
       "avg_class_frequency_current_month      0.075923  0.183095   \n",
       "churn                                 -0.175325 -0.404735   \n",
       "\n",
       "                                   avg_additional_charges_total  \\\n",
       "gender                                                -0.009334   \n",
       "near_location                                          0.040761   \n",
       "partner                                                0.022941   \n",
       "promo_friends                                          0.036898   \n",
       "phone                                                  0.009279   \n",
       "contract_period                                        0.111445   \n",
       "group_visits                                           0.032079   \n",
       "age                                                    0.080240   \n",
       "avg_additional_charges_total                           1.000000   \n",
       "month_to_end_contract                                  0.113958   \n",
       "lifetime                                               0.079028   \n",
       "avg_class_frequency_total                              0.044426   \n",
       "avg_class_frequency_current_month                      0.079570   \n",
       "churn                                                 -0.198697   \n",
       "\n",
       "                                   month_to_end_contract  lifetime  \\\n",
       "gender                                         -0.001281  0.013579   \n",
       "near_location                                   0.143961  0.070921   \n",
       "partner                                         0.294632  0.061229   \n",
       "promo_friends                                   0.239553  0.072721   \n",
       "phone                                          -0.011196 -0.018801   \n",
       "contract_period                                 0.973064  0.170725   \n",
       "group_visits                                    0.163703  0.075853   \n",
       "age                                             0.134511  0.164693   \n",
       "avg_additional_charges_total                    0.113958  0.079028   \n",
       "month_to_end_contract                           1.000000  0.161078   \n",
       "lifetime                                        0.161078  1.000000   \n",
       "avg_class_frequency_total                       0.085387  0.112338   \n",
       "avg_class_frequency_current_month               0.147605  0.181975   \n",
       "churn                                          -0.381393 -0.438220   \n",
       "\n",
       "                                   avg_class_frequency_total  \\\n",
       "gender                                              0.014620   \n",
       "near_location                                       0.043127   \n",
       "partner                                             0.024938   \n",
       "promo_friends                                       0.028063   \n",
       "phone                                               0.008340   \n",
       "contract_period                                     0.096211   \n",
       "group_visits                                        0.056695   \n",
       "age                                                 0.119953   \n",
       "avg_additional_charges_total                        0.044426   \n",
       "month_to_end_contract                               0.085387   \n",
       "lifetime                                            0.112338   \n",
       "avg_class_frequency_total                           1.000000   \n",
       "avg_class_frequency_current_month                   0.952739   \n",
       "churn                                              -0.249715   \n",
       "\n",
       "                                   avg_class_frequency_current_month     churn  \n",
       "gender                                                      0.009156  0.000708  \n",
       "near_location                                               0.062664 -0.128098  \n",
       "partner                                                     0.045561 -0.157986  \n",
       "promo_friends                                               0.053768 -0.162233  \n",
       "phone                                                       0.013375 -0.001177  \n",
       "contract_period                                             0.159407 -0.389984  \n",
       "group_visits                                                0.075923 -0.175325  \n",
       "age                                                         0.183095 -0.404735  \n",
       "avg_additional_charges_total                                0.079570 -0.198697  \n",
       "month_to_end_contract                                       0.147605 -0.381393  \n",
       "lifetime                                                    0.181975 -0.438220  \n",
       "avg_class_frequency_total                                   0.952739 -0.249715  \n",
       "avg_class_frequency_current_month                           1.000000 -0.412348  \n",
       "churn                                                      -0.412348  1.000000  "
      ]
     },
     "execution_count": 11,
     "metadata": {},
     "output_type": "execute_result"
    }
   ],
   "source": [
    "correlation = data.corr()\n",
    "correlation"
   ]
  },
  {
   "cell_type": "code",
   "execution_count": 12,
   "metadata": {},
   "outputs": [
    {
     "data": {
      "image/png": "[encoded data removed]",
      "text/plain": [
       "<Figure size 1440x720 with 2 Axes>"
      ]
     },
     "metadata": {
      "needs_background": "light"
     },
     "output_type": "display_data"
    }
   ],
   "source": [
    "plt.figure(figsize=(20,10))\n",
    "sns.heatmap(data.corr(), annot=True)\n",
    "plt.title('Матрица корреляций')\n",
    "plt.show()"
   ]
  },
  {
   "cell_type": "markdown",
   "metadata": {},
   "source": [
    "Из графика корреляции видно, что больше всего на лояльность и отток клиентов влияют следующие признаки:\n",
    "\n",
    "- период аббонемента(0,39)\n",
    "- возраст клиентов(0,4)\n",
    "- через сколько закончится аббонемент(0,38)\n",
    "- время прошедшее с первого посещения(0,44)\n",
    "- количество занятий в неделю(0,41)\n",
    "\n",
    "**Также надо отметить очень сильную корреляцию пар признаков, которую надо будет учесть в моделях линейной регрессии:**\n",
    "   Для того, чтобы такие признаки не доминировали над остальными переменными при обучении, удалим из модели month_to_end_contract и avg_class_frequency_total."
   ]
  },
  {
   "cell_type": "code",
   "execution_count": 13,
   "metadata": {},
   "outputs": [],
   "source": [
    "data = data.drop(['month_to_end_contract', 'avg_class_frequency_total'], axis=1)"
   ]
  },
  {
   "cell_type": "markdown",
   "metadata": {},
   "source": [
    "**ВЫВОД:**\n",
    "В ходе EDA анализа было проделано и установлено:\n",
    "1. Отток клиентов. В выборке больше тех, кто продолжает пользоваться услугами (средняя близка к 0,3, а медиана равна 0).\n",
    "2. Пол клиентов. У нас имеются данные о мужчинах и женщинах. При этом в выборке их равное количество (средняя близка к 0,5, а медианное значение равно 1). \n",
    "3. Близость к фитнес-центру. В выборке больше тех, кто живёт или работает рядом (так как средняя близка к 0,85, а первый квартиль равен 1). А в группе, которая лояльна к фитнес-центру, чуть больше человек, которые живут или работают поблизости, хотя, распределения по этому признаку для лояльных и нелояльных клиентов не сильно отличаются друг от друга.\n",
    "4. Сотрудники компании-партнёра. Находятся в равной пропорции (средняя близка к 0,5).  Из тех, кто ушёл в отток, больше клиентов, не связанных с компанией-партнёром. Это же выражено и в распределении соответствующих данных.\n",
    "5. Промо-акция. Больше людей, которые приобрели первый абонемент не по промо-акции \"Приведи друга\", но среди тех, кто остался, пришедших по промо-акции больше, хотя распределения у лояльных клиентов и ушедших близки.\n",
    "6. Контактный телефон. Больше тех, для кого представлена контактная информация (так как средняя близка к 0,9, а четвёртый квартиль равен 1) для обоих категорий: лояльных и нелояльных клиентов (распределения схожи).\n",
    "7. Возраст клиентов. Средний возраст равен 29 годам. При этом люди разного возраста выбраны достаточно равномерно. Распределение для лояльных клиентов немного смещено вправо, а для ушедших клиентов - влево. Так, в группе лояльных фитнес-центру людей средний возраст составляет около 30 лет, а среди уходящих - около 27 лет. \n",
    "8. Время с первого обращения. Среднее время с момента первого обращения составляет 3 месяца. Распределение времени с момента первого обращения для ушедших в отток клиентов сильно смещено влево, практически не имея значения в более высоких значениях, а для лояльных клиентов принимает более высокие значения. Таким образом, среднее время с момента первого обращения для уходящих в отток составило 1 месяц, а для тех, кто остался, близко к 5 месяцам. \n",
    "9. Длительность абонемента. Имеет срок в 1, 6 и 12 месяцев. Средняя длительность действующего абонемента составляет 4-5 месяцев. При этом есть перекос в данных: для большинства срок действующего абонемента равен 1 месяцу. Длительность действующего абонемента по оставшимся пользователям в среднем около 5-6 месяцев, а по ушедшим - 1-2 месяца. Это говорит о том, что купившие длительный абонемент с большей неохотой уйдут в отток, чем те, у кого он действует на короткий срок.\n",
    "10. Время до окончания абонемента. В среднем это значение около 4 месяцев. При этом больше половины всей выборки - это люди, до конца абонементов которых остался 1 месяц. Различия в распределении групп (лояльных и нелояльных клиентов) по сроку до окончания действующего абонемента такие же, как и в распределениях по длительности абонемента. В среднем срок до окончания действующего абонемента у людей, ушедших в отток, около 1-2 месяцев, а у оставшихся клиентов - около 5 месяцев. Это снова указывает на то, что уходят в большей степени те, у кого длительность оставшегося абонемента невысока.\n",
    "11. Групповые занятия. В выборке чуть больше тех, кто не посещает такие занятия. При этом среди лояльных клиентов распределение посещающих такие занятия и непосещающих примерно равномерно; но среди тех, кто ушёл в отток, непосещающих групповые занятия значительно больше, чем тех, кто их посещает.\n",
    "12. Частота посещений за весь срок. В среднем это значение составляет около 2 раз в неделю. При этом выборка равномерная. Распределение для средней частоты посещений в неделю за время действия абонемента в обоих группах является нормальным. Лояльные клиенты, в среднем, посещают центр 2 раза в неделю, а ушедшие - от 1 до 2.\n",
    "13. Частота посещений за месяц. В среднем это значение составляет около 2 раз в неделю. Распределения и средние значения схожи с распределениями аналогичного показателя за весь срок абонемента.\n",
    "14. Выручка от прочих услуг. Выручка от прочих услуг фитнес-центра с клиента составила от 0,15 до 552,6 ден.ед. Средняя выручка от других услуг фитнес-центра между группами разнится на 43 ден.ед. (в группе лояльных она выше, чем в группе уходящих). Распределение средней выручки от других услуг фитнес-центра для обоих датасетов смещено влево с большим смещением для ушедших людей. То есть те, кто уходит, стараются минимизировать затраты на дополнительные услуги в фитнес-центре.\n",
    "\n",
    "\n",
    "\n",
    "15. На основе корреляции мы видим, что такие признаки как пол и наличие контактного телефона почти не влияют на конечный показатель оттока. Все остальные показатели имеют обратное влияние: слабое, либо чуть более сильное. Также отметим, что имеется сильная связь между показателями длительности абонемента и количеством месяцев до конца абонемента. Это говорит о том, что в выборке представлены клиенты, которые отобраны на определённом этапе покупки абонемента. Скорее всего, в начале действия абонемента. Также наблюдается сильная связь между средней частотой посщений в неделю с начала пользования услугами и за предыдущий месяц. Это говорит о другой зависимости: скорее всего, клиенты посещают фитнес-центр примерно одинаковое число раз в неделю вне зависимости от того, сколько они пользуются услугами центра."
   ]
  },
  {
   "cell_type": "markdown",
   "metadata": {},
   "source": [
    "## Построение модели прогнозирования оттока пользователей\n",
    "### Выделение обучающей и валидационной выборок"
   ]
  },
  {
   "cell_type": "code",
   "execution_count": 14,
   "metadata": {},
   "outputs": [],
   "source": [
    "# Разделим данные на признаки (матрица x) и целевую переменную (y)\n",
    "x = data.drop('churn', axis = 1)\n",
    "y = data['churn']\n",
    "\n",
    "# Разделим выборку на обучающую и валидационную в соотношении 80:20\n",
    "x_train, x_test, y_train, y_test = train_test_split(x, y, test_size=0.2, random_state=0, stratify=y)\n",
    "\n",
    "# Cтандартизируем данные\n",
    "scaler = StandardScaler()\n",
    "scaler.fit(x_train)\n",
    "x_train_st = scaler.transform(x_train)\n",
    "x_test_st = scaler.transform(x_test)"
   ]
  },
  {
   "cell_type": "markdown",
   "metadata": {},
   "source": [
    "### Модель построенная способом логистической регрессии\n"
   ]
  },
  {
   "cell_type": "code",
   "execution_count": 15,
   "metadata": {},
   "outputs": [],
   "source": [
    "# Зададим алгоритм для модели\n",
    "logreg_model = LogisticRegression(random_state=0)\n",
    "\n",
    "# Обучим модель\n",
    "logreg_model.fit(x_train_st, y_train)\n",
    "\n",
    "# Воспользуемся обученной моделью, чтобы сделать прогнозы\n",
    "logreg_predictions = logreg_model.predict(x_test_st)\n",
    "logreg_probabilities = logreg_model.predict_proba(x_test_st)[:,1]\n"
   ]
  },
  {
   "cell_type": "markdown",
   "metadata": {},
   "source": [
    "###  Модель построенная способом случайного леса"
   ]
  },
  {
   "cell_type": "code",
   "execution_count": 16,
   "metadata": {},
   "outputs": [],
   "source": [
    "# Зададим алгоритм для модели\n",
    "randfor_model = RandomForestClassifier(random_state=0)\n",
    "\n",
    "# Обучим модель\n",
    "randfor_model.fit(x_train_st, y_train)\n",
    "\n",
    "# Воспользуемся обученной моделью, чтобы сделать прогнозы\n",
    "randfor_predictions = randfor_model.predict(x_test_st)\n",
    "randfor_probabilities = randfor_model.predict_proba(x_test_st)[:,1]"
   ]
  },
  {
   "cell_type": "markdown",
   "metadata": {},
   "source": [
    "### Оценка метрик и сравнение моделей"
   ]
  },
  {
   "cell_type": "code",
   "execution_count": 17,
   "metadata": {},
   "outputs": [
    {
     "name": "stdout",
     "output_type": "stream",
     "text": [
      "Метрики для модели логистической регрессии\n",
      "\tAccuracy: 0.92\n",
      "\tPrecision: 0.85\n",
      "\tRecall: 0.84\n",
      "\tF1: 0.84\n",
      "\tROC_AUC: 0.97\n",
      "\n",
      "Метрики для модели случайного леса\n",
      "\tAccuracy: 0.91\n",
      "\tPrecision: 0.85\n",
      "\tRecall: 0.77\n",
      "\tF1: 0.81\n",
      "\tROC_AUC: 0.96\n"
     ]
    }
   ],
   "source": [
    "# Определим функцию, которая будет выводить наши метрики\n",
    "def print_metrics(y_true, y_pred, y_proba, model_name):\n",
    "    print(\"Метрики для модели \"+model_name)\n",
    "    print('\\tAccuracy: {:.2f}'.format(accuracy_score(y_true, y_pred)))\n",
    "    print('\\tPrecision: {:.2f}'.format(precision_score(y_true, y_pred)))\n",
    "    print('\\tRecall: {:.2f}'.format(recall_score(y_true, y_pred)))\n",
    "    print('\\tF1: {:.2f}'.format(f1_score(y_true, y_pred)))\n",
    "    print('\\tROC_AUC: {:.2f}'.format(roc_auc_score(y_true, y_proba)))\n",
    "    \n",
    "    \n",
    "# Рассчитаем метрики для модели логистической регрессии\n",
    "print_metrics(y_test, logreg_predictions, logreg_probabilities, 'логистической регрессии')\n",
    "print()\n",
    "# Рассчитаем метрики для модели случайного леса\n",
    "print_metrics(y_test, randfor_predictions, randfor_probabilities, 'случайного леса')"
   ]
  },
  {
   "cell_type": "markdown",
   "metadata": {},
   "source": [
    "Обе модели достаточно хорошо способны делать прогноз. Однако, модель логистической регрессии подходит больше по всем показателям: доле правильных ответов (accuracy), точности (precision), полноте (recall), агрерующей метрике F1_score и наиболее точной метрике оценки качества классификатора ROC_AUC.\n",
    "Метрики лучшей модели:\n",
    "\n",
    "- Accuracy: точность прогнозирования 0,92\n",
    "- Precision: доля правильных ответов в пределах класса 0.85\n",
    "- Recall: количесто исстино положительных результатов 0.84\n",
    "- F1: обобщеная оценка метрик Precision и Recall 0.84\n",
    "- ROC_AUC: 0.97 показатель говорит о том, что модель очень точно производит бинарную классификацию объектов.\n",
    "\n",
    "\n",
    "Результаты оценки модели, разными метриками, дали высокие результаты, что свидетельствует о возможности использования её в дальнейшией аналитической работе."
   ]
  },
  {
   "cell_type": "markdown",
   "metadata": {},
   "source": [
    "## Кластеризация клиентов\n",
    "### Стандартизация данных\n"
   ]
  },
  {
   "cell_type": "code",
   "execution_count": 18,
   "metadata": {},
   "outputs": [],
   "source": [
    "# Зададим \"стандартизатор\"\n",
    "scaler = StandardScaler()\n",
    "\n",
    "# Стандартизируем данные\n",
    "x_st = scaler.fit_transform(x)"
   ]
  },
  {
   "cell_type": "markdown",
   "metadata": {},
   "source": [
    "### Построение матрицы расстояний и дендрограммы\n"
   ]
  },
  {
   "cell_type": "code",
   "execution_count": 19,
   "metadata": {},
   "outputs": [
    {
     "data": {
      "image/png": "[encoded data removed]",
      "text/plain": [
       "<Figure size 1080x720 with 1 Axes>"
      ]
     },
     "metadata": {
      "needs_background": "light"
     },
     "output_type": "display_data"
    }
   ],
   "source": [
    "# Сохраним матрицу расстояний\n",
    "links = linkage(x_st, method = 'ward')\n",
    "\n",
    "# Построим дендрограмму\n",
    "plt.figure(figsize=(15, 10))\n",
    "plt.title('Кластеризация пользователей фитнес-центра')\n",
    "dendrogram(links, orientation='top')\n",
    "plt.show()\n"
   ]
  },
  {
   "cell_type": "markdown",
   "metadata": {},
   "source": [
    "### Обучение модели кластеризации и прогноз кластеров клиентов\n",
    "Было принято решение для прогноза кластеров клиентов использовать пять кластеров. Обучим модель кластеризации на основании алгоритма K-Means и спрогнозируем кластеры клиентов."
   ]
  },
  {
   "cell_type": "code",
   "execution_count": 20,
   "metadata": {},
   "outputs": [
    {
     "data": {
      "text/html": [
       "<div>\n",
       "<style scoped>\n",
       "    .dataframe tbody tr th:only-of-type {\n",
       "        vertical-align: middle;\n",
       "    }\n",
       "\n",
       "    .dataframe tbody tr th {\n",
       "        vertical-align: top;\n",
       "    }\n",
       "\n",
       "    .dataframe thead th {\n",
       "        text-align: right;\n",
       "    }\n",
       "</style>\n",
       "<table border=\"1\" class=\"dataframe\">\n",
       "  <thead>\n",
       "    <tr style=\"text-align: right;\">\n",
       "      <th></th>\n",
       "      <th>gender</th>\n",
       "      <th>near_location</th>\n",
       "      <th>partner</th>\n",
       "      <th>promo_friends</th>\n",
       "      <th>phone</th>\n",
       "      <th>contract_period</th>\n",
       "      <th>group_visits</th>\n",
       "      <th>age</th>\n",
       "      <th>avg_additional_charges_total</th>\n",
       "      <th>lifetime</th>\n",
       "      <th>avg_class_frequency_current_month</th>\n",
       "      <th>churn</th>\n",
       "    </tr>\n",
       "    <tr>\n",
       "      <th>cluster_km</th>\n",
       "      <th></th>\n",
       "      <th></th>\n",
       "      <th></th>\n",
       "      <th></th>\n",
       "      <th></th>\n",
       "      <th></th>\n",
       "      <th></th>\n",
       "      <th></th>\n",
       "      <th></th>\n",
       "      <th></th>\n",
       "      <th></th>\n",
       "      <th></th>\n",
       "    </tr>\n",
       "  </thead>\n",
       "  <tbody>\n",
       "    <tr>\n",
       "      <th>cluster_1</th>\n",
       "      <td>0.496447</td>\n",
       "      <td>0.995939</td>\n",
       "      <td>0.892386</td>\n",
       "      <td>1.000000</td>\n",
       "      <td>1.0</td>\n",
       "      <td>6.922843</td>\n",
       "      <td>0.524873</td>\n",
       "      <td>29.606091</td>\n",
       "      <td>153.424651</td>\n",
       "      <td>4.283249</td>\n",
       "      <td>1.919520</td>\n",
       "      <td>0.119797</td>\n",
       "    </tr>\n",
       "    <tr>\n",
       "      <th>cluster_2</th>\n",
       "      <td>0.500000</td>\n",
       "      <td>0.000000</td>\n",
       "      <td>0.489247</td>\n",
       "      <td>0.078853</td>\n",
       "      <td>1.0</td>\n",
       "      <td>2.994624</td>\n",
       "      <td>0.232975</td>\n",
       "      <td>28.679211</td>\n",
       "      <td>137.125763</td>\n",
       "      <td>2.974910</td>\n",
       "      <td>1.597146</td>\n",
       "      <td>0.403226</td>\n",
       "    </tr>\n",
       "    <tr>\n",
       "      <th>cluster_3</th>\n",
       "      <td>0.500940</td>\n",
       "      <td>1.000000</td>\n",
       "      <td>0.217105</td>\n",
       "      <td>0.072368</td>\n",
       "      <td>1.0</td>\n",
       "      <td>2.010338</td>\n",
       "      <td>0.277256</td>\n",
       "      <td>27.583647</td>\n",
       "      <td>119.339956</td>\n",
       "      <td>1.922932</td>\n",
       "      <td>1.203319</td>\n",
       "      <td>0.563910</td>\n",
       "    </tr>\n",
       "    <tr>\n",
       "      <th>cluster_4</th>\n",
       "      <td>0.534260</td>\n",
       "      <td>0.996028</td>\n",
       "      <td>0.379345</td>\n",
       "      <td>0.009930</td>\n",
       "      <td>1.0</td>\n",
       "      <td>6.208540</td>\n",
       "      <td>0.538232</td>\n",
       "      <td>30.699106</td>\n",
       "      <td>176.259567</td>\n",
       "      <td>5.415094</td>\n",
       "      <td>2.324220</td>\n",
       "      <td>0.014896</td>\n",
       "    </tr>\n",
       "    <tr>\n",
       "      <th>cluster_5</th>\n",
       "      <td>0.523316</td>\n",
       "      <td>0.862694</td>\n",
       "      <td>0.471503</td>\n",
       "      <td>0.305699</td>\n",
       "      <td>0.0</td>\n",
       "      <td>4.777202</td>\n",
       "      <td>0.427461</td>\n",
       "      <td>29.297927</td>\n",
       "      <td>144.208179</td>\n",
       "      <td>3.940415</td>\n",
       "      <td>1.723967</td>\n",
       "      <td>0.266839</td>\n",
       "    </tr>\n",
       "  </tbody>\n",
       "</table>\n",
       "</div>"
      ],
      "text/plain": [
       "              gender  near_location   partner  promo_friends  phone  \\\n",
       "cluster_km                                                            \n",
       "cluster_1   0.496447       0.995939  0.892386       1.000000    1.0   \n",
       "cluster_2   0.500000       0.000000  0.489247       0.078853    1.0   \n",
       "cluster_3   0.500940       1.000000  0.217105       0.072368    1.0   \n",
       "cluster_4   0.534260       0.996028  0.379345       0.009930    1.0   \n",
       "cluster_5   0.523316       0.862694  0.471503       0.305699    0.0   \n",
       "\n",
       "            contract_period  group_visits        age  \\\n",
       "cluster_km                                             \n",
       "cluster_1          6.922843      0.524873  29.606091   \n",
       "cluster_2          2.994624      0.232975  28.679211   \n",
       "cluster_3          2.010338      0.277256  27.583647   \n",
       "cluster_4          6.208540      0.538232  30.699106   \n",
       "cluster_5          4.777202      0.427461  29.297927   \n",
       "\n",
       "            avg_additional_charges_total  lifetime  \\\n",
       "cluster_km                                           \n",
       "cluster_1                     153.424651  4.283249   \n",
       "cluster_2                     137.125763  2.974910   \n",
       "cluster_3                     119.339956  1.922932   \n",
       "cluster_4                     176.259567  5.415094   \n",
       "cluster_5                     144.208179  3.940415   \n",
       "\n",
       "            avg_class_frequency_current_month     churn  \n",
       "cluster_km                                               \n",
       "cluster_1                            1.919520  0.119797  \n",
       "cluster_2                            1.597146  0.403226  \n",
       "cluster_3                            1.203319  0.563910  \n",
       "cluster_4                            2.324220  0.014896  \n",
       "cluster_5                            1.723967  0.266839  "
      ]
     },
     "execution_count": 20,
     "metadata": {},
     "output_type": "execute_result"
    }
   ],
   "source": [
    "# Зададим модель k_means с числом кластеров 5\n",
    "km = KMeans(n_clusters = 5, random_state=0)\n",
    "\n",
    "# Спрогнозируем кластеры для наблюдений\n",
    "labels = km.fit_predict(x_st)\n",
    "\n",
    "# Сохраним метки кластера в поле нашего датасета\n",
    "data['cluster_km'] = labels\n",
    "\n",
    "# Переименуем названия кластеров\n",
    "data.loc[data['cluster_km']==0, 'cluster_km'] = 'cluster_1'\n",
    "data.loc[data['cluster_km']==1, 'cluster_km'] = 'cluster_2'\n",
    "data.loc[data['cluster_km']==2, 'cluster_km'] = 'cluster_3'\n",
    "data.loc[data['cluster_km']==3, 'cluster_km'] = 'cluster_4'\n",
    "data.loc[data['cluster_km']==4, 'cluster_km'] = 'cluster_5'\n",
    "\n",
    "# Выведем средние значения признаков для кластеров\n",
    "data.groupby('cluster_km').mean()"
   ]
  },
  {
   "cell_type": "markdown",
   "metadata": {},
   "source": [
    "При взгляде на таблицу чётко отделяемые группы выделить можно по ряду признаков. Однако, для более наглядного разделения требуется построить распределение для каждого признака по кластерам.\n",
    "\n",
    "### Анализ распределения признаков для кластеров\n",
    "Для анализа распределения признаков в кластерах построим столбчатые диаграммы для логических и дискретных переменных (пол, близость к фитнес-центру, принадлежность к компании-партнёру, первое посещение по акции \"Приведи друга\", наличие контакта, длительность абонемента, посещение групповых занятий, отток) и боксплоты для непрерывных переменных (возраст, время с момента первого обращения, показатели средней частоты посещений в неделю за месяц, выручка от других услуг)."
   ]
  },
  {
   "cell_type": "code",
   "execution_count": 21,
   "metadata": {},
   "outputs": [
    {
     "data": {
      "image/png": "[encoded data removed]",
      "text/plain": [
       "<Figure size 432x288 with 1 Axes>"
      ]
     },
     "metadata": {
      "needs_background": "light"
     },
     "output_type": "display_data"
    },
    {
     "data": {
      "image/png": "[encoded data removed]",
      "text/plain": [
       "<Figure size 432x288 with 1 Axes>"
      ]
     },
     "metadata": {
      "needs_background": "light"
     },
     "output_type": "display_data"
    },
    {
     "data": {
      "image/png": "[encoded data removed]",
      "text/plain": [
       "<Figure size 432x288 with 1 Axes>"
      ]
     },
     "metadata": {
      "needs_background": "light"
     },
     "output_type": "display_data"
    },
    {
     "data": {
      "image/png": "[encoded data removed]",
      "text/plain": [
       "<Figure size 432x288 with 1 Axes>"
      ]
     },
     "metadata": {
      "needs_background": "light"
     },
     "output_type": "display_data"
    },
    {
     "data": {
      "image/png": "[encoded data removed]",
      "text/plain": [
       "<Figure size 432x288 with 1 Axes>"
      ]
     },
     "metadata": {
      "needs_background": "light"
     },
     "output_type": "display_data"
    },
    {
     "data": {
      "image/png": "[encoded data removed]",
      "text/plain": [
       "<Figure size 432x288 with 1 Axes>"
      ]
     },
     "metadata": {
      "needs_background": "light"
     },
     "output_type": "display_data"
    },
    {
     "data": {
      "image/png": "[encoded data removed]",
      "text/plain": [
       "<Figure size 432x288 with 1 Axes>"
      ]
     },
     "metadata": {
      "needs_background": "light"
     },
     "output_type": "display_data"
    },
    {
     "data": {
      "image/png": "[encoded data removed]",
      "text/plain": [
       "<Figure size 432x288 with 1 Axes>"
      ]
     },
     "metadata": {
      "needs_background": "light"
     },
     "output_type": "display_data"
    }
   ],
   "source": [
    "# Построим график для логических и дискретных величин\n",
    "log_discr_values = ['gender', 'near_location', 'partner', 'promo_friends', 'phone', 'contract_period', 'group_visits', 'churn']\n",
    "fig, ax = plt.subplots()\n",
    "for column in log_discr_values:\n",
    "    plt.title(\"Распределение признака \"+column)\n",
    "    sns.countplot(data=data, x=column, hue='cluster_km')\n",
    "    plt.xlabel(column)\n",
    "    plt.ylabel(\"количество\")\n",
    "    plt.legend(bbox_to_anchor=(1.3, 1))\n",
    "    plt.show()"
   ]
  },
  {
   "cell_type": "code",
   "execution_count": 22,
   "metadata": {},
   "outputs": [
    {
     "data": {
      "image/png": "[encoded data removed]",
      "text/plain": [
       "<Figure size 432x288 with 1 Axes>"
      ]
     },
     "metadata": {
      "needs_background": "light"
     },
     "output_type": "display_data"
    },
    {
     "data": {
      "image/png": "[encoded data removed]",
      "text/plain": [
       "<Figure size 432x288 with 1 Axes>"
      ]
     },
     "metadata": {
      "needs_background": "light"
     },
     "output_type": "display_data"
    },
    {
     "data": {
      "image/png": "[encoded data removed]",
      "text/plain": [
       "<Figure size 432x288 with 1 Axes>"
      ]
     },
     "metadata": {
      "needs_background": "light"
     },
     "output_type": "display_data"
    },
    {
     "data": {
      "image/png": "[encoded data removed]",
      "text/plain": [
       "<Figure size 432x288 with 1 Axes>"
      ]
     },
     "metadata": {
      "needs_background": "light"
     },
     "output_type": "display_data"
    }
   ],
   "source": [
    "# Построим график для непрерывных величин\n",
    "cont_values = ['age', 'lifetime', 'avg_class_frequency_current_month', 'avg_additional_charges_total']\n",
    "fig, ax = plt.subplots()\n",
    "for column in cont_values:\n",
    "    plt.title(\"Распределение признака \"+column)\n",
    "    sns.boxplot(x='cluster_km', y=column, data=data)\n",
    "    plt.xlabel('кластер')\n",
    "    plt.ylabel('значение '+column)\n",
    "    plt.show()"
   ]
  },
  {
   "cell_type": "markdown",
   "metadata": {},
   "source": [
    "**Кластер 1 характеризуется:**\n",
    "\n",
    "- приблизительно равным распределением между мужчинами и женщинами;\n",
    "- клиентами, которые находятся поблизости от фитнес-центра;\n",
    "- клиентами, большинство из которых (около 90%) пришли от компаний-партнёров;\n",
    "- клиентами, которые пришли по промо-акции от друзей;\n",
    "- наличием контактных данных;\n",
    "- абонементом на 1, 6 и 12 месяцев с преобладанием абонементов на 12 месяцев;\n",
    "- с примерно равным посещением по групповым занятиям;\n",
    "- средним возрастом около 30 лет;\n",
    "- высоким уровнем дополнительных оплат;\n",
    "- длинным сроком от начала пользования услугами;\n",
    "- посещением около 2 раза в неделю.\n",
    "\n",
    "**Кластер 2 характеризуется:**\n",
    "\n",
    "- приблизительно равным распределением между мужчинами и женщинами;\n",
    "- клиентами, живущими или работающими вдали от фитнес-центра;\n",
    "- примерно равным числом посетителей от компаний-партнёров и обычных посетителей;\n",
    "- клиентами, большинство из которых (около 90%) пришло не по промо-акции от друзей;\n",
    "- наличием контактных данных;\n",
    "- абонементом на 1, 6 и 12 месяцев с примерно равным распределением и небольшим преобладанием 1 месяц;\n",
    "- клиентами, большая часть которых не посещает групповые занятия;\n",
    "- средним возрастом около 28 лет;\n",
    "- средним уровнем дополнительных оплат;\n",
    "- средним сроком от начала пользования услугами;\n",
    "- посещением около 1,5 раз в неделю.\n",
    "\n",
    "**Кластер 3 характеризуется:**\n",
    "\n",
    "- приблизительно равным распределением между мужчинами и женщинами;\n",
    "- клиентами, большинство из которых находится вблизи от фитнес-центра;\n",
    "- клиентами, большинство из которых (около 70%) пришли НЕ от компаний-партнёров;\n",
    "- клиентами, большинство из которых (около 70%) пришло НЕ по промо-акции от друзей;\n",
    "- наличием контактных данных;\n",
    "- абонементом на 1, 6 и 12 месяцев с большим преобладанием 1 месяца;\n",
    "- клиентами, около 70% которых не посещает групповые занятия;\n",
    "- средним возрастом в 27,5 лет;\n",
    "- низким уровнем дополнительных оплат;\n",
    "- коротким сроком от начала пользования услугами;\n",
    "- посещением около 1 раз в неделю.\n",
    "\n",
    "**Кластер 4 характеризуется:**\n",
    "\n",
    "- чуть большим числом людей одного пола, по сравнению с другим;\n",
    "- клиентами, живущими или работающими недалеко от финес-центра;\n",
    "- клиентами, большинство из которых (около 65%) пришли не от компаний-партнёров, \n",
    "- клиентами, большинство из которых пришло НЕ по промо-акции от друзей;\n",
    "- наличием контактных данных;\n",
    "- абонементом на 1, 6 и 12 месяцев с примерно равным распределением по месяцам;\n",
    "- клиентами, с примерно равным посещением групповых занятий;\n",
    "- средним возрастом около 31 лет;\n",
    "- высоким уровнем дополнительных оплат;\n",
    "- длинным сроком от начала пользования услугами;\n",
    "- посещением около 2,5 раз в неделю.\n",
    "\n",
    "**Кластер 5 характеризуется:**\n",
    "\n",
    "- приблизительно равным распределением между мужчинами и женщинами;\n",
    "- клиентами, которые находятся вблизи от фитнес-центра;\n",
    "- примерно равным числом посетителей от компаний-партнёров и обычных посетителей;\n",
    "- 65% клиентов, которые пришли НЕ по промо-акции от друзей;\n",
    "- отсутствием контактных данных;\n",
    "- абонементом на 1, 6 и 12 месяцев с преобладанием на 1 месяц;\n",
    "- клиентами, около половины которых НЕ посещает групповые занятия;\n",
    "- средним возрастом около 29 лет;\n",
    "- очень высоким уровнем дополнительных оплат;\n",
    "- среднем сроком от начала пользования услугами;\n",
    "- посещением около 1,5 раз в неделю."
   ]
  },
  {
   "cell_type": "markdown",
   "metadata": {},
   "source": [
    "### Расчёт и анализ долей оттока для кластеров\n"
   ]
  },
  {
   "cell_type": "code",
   "execution_count": 23,
   "metadata": {},
   "outputs": [
    {
     "data": {
      "text/html": [
       "<div>\n",
       "<style scoped>\n",
       "    .dataframe tbody tr th:only-of-type {\n",
       "        vertical-align: middle;\n",
       "    }\n",
       "\n",
       "    .dataframe tbody tr th {\n",
       "        vertical-align: top;\n",
       "    }\n",
       "\n",
       "    .dataframe thead th {\n",
       "        text-align: right;\n",
       "    }\n",
       "</style>\n",
       "<table border=\"1\" class=\"dataframe\">\n",
       "  <thead>\n",
       "    <tr style=\"text-align: right;\">\n",
       "      <th></th>\n",
       "      <th>cluster_km</th>\n",
       "      <th>churn</th>\n",
       "    </tr>\n",
       "  </thead>\n",
       "  <tbody>\n",
       "    <tr>\n",
       "      <th>0</th>\n",
       "      <td>cluster_3</td>\n",
       "      <td>0.563910</td>\n",
       "    </tr>\n",
       "    <tr>\n",
       "      <th>1</th>\n",
       "      <td>cluster_2</td>\n",
       "      <td>0.403226</td>\n",
       "    </tr>\n",
       "    <tr>\n",
       "      <th>2</th>\n",
       "      <td>cluster_5</td>\n",
       "      <td>0.266839</td>\n",
       "    </tr>\n",
       "    <tr>\n",
       "      <th>3</th>\n",
       "      <td>cluster_1</td>\n",
       "      <td>0.119797</td>\n",
       "    </tr>\n",
       "    <tr>\n",
       "      <th>4</th>\n",
       "      <td>cluster_4</td>\n",
       "      <td>0.014896</td>\n",
       "    </tr>\n",
       "  </tbody>\n",
       "</table>\n",
       "</div>"
      ],
      "text/plain": [
       "  cluster_km     churn\n",
       "0  cluster_3  0.563910\n",
       "1  cluster_2  0.403226\n",
       "2  cluster_5  0.266839\n",
       "3  cluster_1  0.119797\n",
       "4  cluster_4  0.014896"
      ]
     },
     "execution_count": 23,
     "metadata": {},
     "output_type": "execute_result"
    }
   ],
   "source": [
    "# Для каждого полученного кластера посчитаем долю оттока\n",
    "(data\n",
    "     .groupby('cluster_km')['churn']\n",
    "     .mean()\n",
    "     .reset_index()\n",
    "     .sort_values(by='churn', ascending=False)\n",
    "     .reset_index(drop=True))"
   ]
  },
  {
   "cell_type": "markdown",
   "metadata": {},
   "source": [
    "Третий кластер больше всего склонен к оттоку: доля составляет около 56%. Второй кластер характеризуется долей оттока в 40%, а пятый - около 27%. Первый и четвертый кластеры (доля оттока 12% и 2%, соответственно) являются самыми надёжными."
   ]
  },
  {
   "cell_type": "markdown",
   "metadata": {},
   "source": [
    "## Общий вывод\n",
    "Было проведено исследование данных о клиентах фитнес-центра «Культурист-датасаентист». \n",
    "\n",
    "### **Подготовка данных**\n",
    "- пропусков нет\n",
    "- типы данных во всех колонках соответсвующие, кроме колонки month_to_end_contract\n",
    "- Размер датасета: 4000 строк и 14 колонок\n",
    "- Дубликатов не обнаружено\n",
    "- данные переведены в нужный тип\n",
    "\n",
    "### **Исследовательский анализ данных*\n",
    "\n",
    "- *По полу* у нас имеется примерно равное количество человек разного пола в двух группах.\n",
    "- По *близости к фитнес-центру* в группе, которая лояльна к фитнес-центру чуть больше людей, которые живут или работают поблизости, чем тех, кто находится в отдалённости.\n",
    "- Есть различия в оттоке между теми, кто является *сотрудником компании-партнёра клуба*. Среди тех, кто остался примерно половина и тех, кто связан с партнёрами, и тех, кто не связан, с небольшим преобладанием первых. Но из тех, кто ушёл в отток, больше клиентов, не связанных с компанией-партнёром.\n",
    "- В обеих группах больше людей, которые приобрели первый абонемент не по *промо-акции \"Приведи друга\"*. Но среди тех, кто остался, пришедших по промо-акции больше.\n",
    "- Нет различий между группами в наличии *контактного телефона клиентов*.\n",
    "- Длительность действующего абонемента по оставшимся пользователям в среднем около 5-6 месяцев, а по ушедшим - 1-2 месяца. Это говорит о том, что купившие длительный абонемент с большей неохотой уйдут в отток, чем те, у кого он действует на короткий срок.\n",
    "- *Посещение групповых занятий* по выделенным группам также отличается: среди оставшихся клиентов распределение посещающих такие занятия и непосещающих примерно равномерно (вторых чуть больше); но среди тех, кто ушёл в отток, непосещающих групповые занятия значительно больше, чем тех, кто их посещает.\n",
    "- В группе лояльных фитнес-центру людей *средний возраст* составляет около 30 лет, а среди уходящих - около 27 лет. То есть вторая группа чуть младше.\n",
    "- Средняя выручка от других услуг фитнес-центра между группами разнится на 43 ден.ед. (в группе лояльных она выше, чем в группе уходящих).\n",
    "- В среднем *срок до окончания действующего абонемента* у людей, ушедших в отток около 1-2 месяцев, а у оставшихся клиентов - около 5 месяцев. Это снова указывает на то, что уходят в большей степени те, у кого длительность оставшегося абонемента невысока.\n",
    "- *Время с момента первого обращения* для уходящих в отток равно 1 месяцу, а для тех, кто остался, близко к 5 месяцам. Таким образом, лояльные первые месяцы клиенты, скорее всего, не уйдут в отток после длительного периода пользования услугами фитнес-центра.\n",
    "- *Средняя частота посещений* в неделю за время действия абонемента в группах не сильно отличается. Лояльные клиенты в среднем посещают центр 2 раза в неделю, а ушедшие - от 1 до 2.\n",
    "- Разница между группами в *средней частоте посещений* в неделю за месяц также не сильно высока: не ушедшие в отток клиенты в среднем посещали фитнес-клуб 2 раза в неделю, а ушедшие в отток - 1 раз в неделю.\n",
    "\n",
    "### **Модель прогнозирования оттока клиентов**\n",
    "\n",
    "Основные метрики полученной лучшей модели, построенных алгоритмом логистической регрессии следующие: \n",
    "\n",
    "- Accuracy: точность прогнозирования 0,92\n",
    "- Precision: доля правильных ответов в пределах класса 0.85\n",
    "- Recall: количесто исстино положительных результатов 0.84\n",
    "- F1: обобщеная оценка метрик Precision и Recall 0.84\n",
    "- ROC_AUC: 0.97 показатель говорит о том, что модель очень точно производит бинарную классификацию объектов. \n",
    "  -Модель логистической регрессии подходит больше по всем показателям: доле правильных ответов (accuracy), точности (precision), полноте (recall), агрерующей метрике F1 и наиболее точной метрике оценки качества классификатора ROC_AUC.\n",
    "\n",
    "- По дендрограмме было высказано предположение о наличии четырёх кластеров в данных. Однако, было принято решение для прогноза кластеров клиентов использовать пять кластеров в модели K-Means.\n",
    "\n",
    "### **Кластеризация клиентов**\n",
    "\n",
    "Анализ средних значений и распределений признаков для кластеров показал, что выделенные кластеры имеют следующие отличительные характеристики.\n",
    "\n",
    "**Кластер 1 характеризуется:**\n",
    "\n",
    "- приблизительно равным распределением между мужчинами и женщинами;\n",
    "- клиентами, которые находятся поблизости от фитнес-центра;\n",
    "- клиентами, большинство из которых (около 90%) пришли от компаний-партнёров;\n",
    "- клиентами, которые пришли по промо-акции от друзей;\n",
    "- наличием контактных данных;\n",
    "- абонементом на 1, 6 и 12 месяцев с преобладанием абонементов на 12 месяцев;\n",
    "- с примерно равным посещением по групповым занятиям;\n",
    "- средним возрастом около 30 лет;\n",
    "- высоким уровнем дополнительных оплат;\n",
    "- длинным сроком от начала пользования услугами;\n",
    "- посещением около 2 раза в неделю.\n",
    "\n",
    "**Кластер 2 характеризуется:**\n",
    "\n",
    "- приблизительно равным распределением между мужчинами и женщинами;\n",
    "- клиентами, живущими или работающими вдали от фитнес-центра;\n",
    "- примерно равным числом посетителей от компаний-партнёров и обычных посетителей;\n",
    "- клиентами, большинство из которых (около 90%) пришло не по промо-акции от друзей;\n",
    "- наличием контактных данных;\n",
    "- абонементом на 1, 6 и 12 месяцев с примерно равным распределением и небольшим преобладанием 1 месяц;\n",
    "- клиентами, большая часть которых не посещает групповые занятия;\n",
    "- средним возрастом около 28 лет;\n",
    "- средним уровнем дополнительных оплат;\n",
    "- средним сроком от начала пользования услугами;\n",
    "- посещением около 1,5 раз в неделю.\n",
    "\n",
    "**Кластер 3 характеризуется:**\n",
    "\n",
    "- приблизительно равным распределением между мужчинами и женщинами;\n",
    "- клиентами, большинство из которых находится вблизи от фитнес-центра;\n",
    "- клиентами, большинство из которых (около 70%) пришли НЕ от компаний-партнёров;\n",
    "- клиентами, большинство из которых (около 70%) пришло НЕ по промо-акции от друзей;\n",
    "- наличием контактных данных;\n",
    "- абонементом на 1, 6 и 12 месяцев с большим преобладанием 1 месяца;\n",
    "- клиентами, около 70% которых не посещает групповые занятия;\n",
    "- средним возрастом в 27,5 лет;\n",
    "- низким уровнем дополнительных оплат;\n",
    "- коротким сроком от начала пользования услугами;\n",
    "- посещением около 1 раз в неделю.\n",
    "\n",
    "**Кластер 4 характеризуется:**\n",
    "\n",
    "- чуть большим числом людей одного пола, по сравнению с другим;\n",
    "- клиентами, живущими или работающими недалеко от финес-центра;\n",
    "- клиентами, большинство из которых (около 65%) пришли не от компаний-партнёров, \n",
    "- клиентами, большинство из которых пришло НЕ по промо-акции от друзей;\n",
    "- наличием контактных данных;\n",
    "- абонементом на 1, 6 и 12 месяцев с примерно равным распределением по месяцам;\n",
    "- клиентами, с примерно равным посещением групповых занятий;\n",
    "- средним возрастом около 31 лет;\n",
    "- высоким уровнем дополнительных оплат;\n",
    "- длинным сроком от начала пользования услугами;\n",
    "- посещением около 2,5 раз в неделю.\n",
    "- **Самый надежный кластер, с долью оттока менее чем 15%**\n",
    "\n",
    "**Кластер 5 характеризуется:**\n",
    "\n",
    "- приблизительно равным распределением между мужчинами и женщинами;\n",
    "- клиентами, которые находятся вблизи от фитнес-центра;\n",
    "- примерно равным числом посетителей от компаний-партнёров и обычных посетителей;\n",
    "- 65% клиентов, которые пришли НЕ по промо-акции от друзей;\n",
    "- отсутствием контактных данных;\n",
    "- абонементом на 1, 6 и 12 месяцев с преобладанием на 1 месяц;\n",
    "- клиентами, около половины которых НЕ посещает групповые занятия;\n",
    "- средним возрастом около 29 лет;\n",
    "- очень высоким уровнем дополнительных оплат;\n",
    "- среднем сроком от начала пользования услугами;\n",
    "- посещением около 1,5 раз в неделю.\n",
    "\n",
    "### **Рекомендации**\n",
    "\n",
    "На основе представленных выводов, предложены следующие рекомендации для стратегии взаимодействия с пользователями сети фитнес-центров «Культурист-датасаентист» и их удержания.\n",
    "\n",
    "1) Рекомендуется привлечение в фитнес-центр клиентов из близлежащих спальных районах.\n",
    "\n",
    "2) Рекомендуется отменить проведение акции \"Приведи друга\" и акций для сотрудников компаний-партнёров - поскольку они не способствует \"удержанию\" клиентов, а высвободившиеся деньги направить на другие мероприятия (например, реклама  в близлежащих спальных районах).\n",
    "\n",
    "3) Возможно внедрение и реклама абонементов более длительного срока (9 и 12 месяцев) - поскольку чем дольше времени до окончания абонемента, тем лояльнее клиенты.\n",
    "\n",
    "4) Поскольку категория с длительными абонементами имеет склонность пользоваться доп. услугами, для них возможно введение специальных скидок и акций по доп услугам.\n",
    "\n",
    "5) Рекомендуется установить более выгодные цены на длительные абонементы. Например, цена на абонемент на 3 месяца (нужно внедрить абонементы на 3 месяца) ненамного дороже, чем на абонемент на 1 месяц (чтобы покупатель стремился покупать 3 месяца) - это снизит риски оттока клиентов в первые месяцы.\n",
    "\n",
    "6) Возможно ввести более выгодное продление абонемента для клиентов, покупающих абонемент сроком от 3 месяцев. Например, по окончании абонемента покупка нового тем же сроком - скидка 25%. Подобные скидки окупятся доп услугами, которыми пользуются лояльные клиенты и отменой неэффективных акций.\n",
    "\n",
    "7) Рекомендуется проводить мониторинг средней частоты посещений фитнес-центра в неделю по клиентам. При обнаружении снижения показателя предлагать клиентам \"бонусы\" (бесплатная разовая доп услуга, скидки на продление абонемента, одно бесплатное групповое занятие по новому для него направлению и т.п.)."
   ]
  }
 ],
 "metadata": {
  "ExecuteTimeLog": [
   {
    "duration": 1878,
    "start_time": "2022-06-25T08:54:13.415Z"
   },
   {
    "duration": 200,
    "start_time": "2022-06-25T09:02:00.056Z"
   },
   {
    "duration": 7,
    "start_time": "2022-06-25T09:02:03.225Z"
   },
   {
    "duration": 42,
    "start_time": "2022-06-25T09:02:03.897Z"
   },
   {
    "duration": 77,
    "start_time": "2022-06-25T09:02:11.813Z"
   },
   {
    "duration": 4,
    "start_time": "2022-06-25T09:02:42.244Z"
   },
   {
    "duration": 57,
    "start_time": "2022-06-25T09:02:42.946Z"
   },
   {
    "duration": 5,
    "start_time": "2022-06-25T09:03:10.097Z"
   },
   {
    "duration": 66,
    "start_time": "2022-06-25T09:03:10.895Z"
   },
   {
    "duration": 1433,
    "start_time": "2022-06-27T08:28:17.746Z"
   },
   {
    "duration": 3,
    "start_time": "2022-06-27T08:28:19.181Z"
   },
   {
    "duration": 81,
    "start_time": "2022-06-27T08:28:19.186Z"
   },
   {
    "duration": 16,
    "start_time": "2022-06-27T08:28:19.268Z"
   },
   {
    "duration": 13,
    "start_time": "2022-06-27T08:31:39.459Z"
   },
   {
    "duration": 44,
    "start_time": "2022-06-27T08:32:25.465Z"
   },
   {
    "duration": 50,
    "start_time": "2022-06-27T08:43:16.107Z"
   },
   {
    "duration": 14,
    "start_time": "2022-06-27T09:06:10.215Z"
   },
   {
    "duration": 5,
    "start_time": "2022-06-27T09:16:19.420Z"
   },
   {
    "duration": 5,
    "start_time": "2022-06-27T09:16:28.873Z"
   },
   {
    "duration": 7,
    "start_time": "2022-06-27T09:18:10.691Z"
   },
   {
    "duration": 15,
    "start_time": "2022-06-27T09:18:27.016Z"
   },
   {
    "duration": 4,
    "start_time": "2022-06-27T09:18:34.687Z"
   },
   {
    "duration": 1316,
    "start_time": "2022-06-27T09:18:40.758Z"
   },
   {
    "duration": 4,
    "start_time": "2022-06-27T09:18:42.076Z"
   },
   {
    "duration": 67,
    "start_time": "2022-06-27T09:18:42.082Z"
   },
   {
    "duration": 19,
    "start_time": "2022-06-27T09:18:42.151Z"
   },
   {
    "duration": 22,
    "start_time": "2022-06-27T09:18:42.172Z"
   },
   {
    "duration": 26,
    "start_time": "2022-06-27T09:18:42.196Z"
   },
   {
    "duration": 41,
    "start_time": "2022-06-27T09:18:42.223Z"
   },
   {
    "duration": 5,
    "start_time": "2022-06-27T09:18:42.265Z"
   },
   {
    "duration": 10,
    "start_time": "2022-06-27T09:18:42.272Z"
   },
   {
    "duration": 4,
    "start_time": "2022-06-27T09:19:44.013Z"
   },
   {
    "duration": 720,
    "start_time": "2022-06-27T09:20:30.632Z"
   },
   {
    "duration": 923,
    "start_time": "2022-06-27T09:20:41.791Z"
   },
   {
    "duration": 845,
    "start_time": "2022-06-27T09:21:01.482Z"
   },
   {
    "duration": 873,
    "start_time": "2022-06-27T09:21:29.545Z"
   },
   {
    "duration": 1360,
    "start_time": "2022-06-27T09:22:15.595Z"
   },
   {
    "duration": 5,
    "start_time": "2022-06-27T09:22:16.957Z"
   },
   {
    "duration": 58,
    "start_time": "2022-06-27T09:22:16.965Z"
   },
   {
    "duration": 17,
    "start_time": "2022-06-27T09:22:17.026Z"
   },
   {
    "duration": 25,
    "start_time": "2022-06-27T09:22:17.044Z"
   },
   {
    "duration": 30,
    "start_time": "2022-06-27T09:22:17.072Z"
   },
   {
    "duration": 13,
    "start_time": "2022-06-27T09:22:17.104Z"
   },
   {
    "duration": 4,
    "start_time": "2022-06-27T09:22:17.119Z"
   },
   {
    "duration": 844,
    "start_time": "2022-06-27T09:22:17.125Z"
   },
   {
    "duration": 912,
    "start_time": "2022-06-27T09:22:29.959Z"
   },
   {
    "duration": 834,
    "start_time": "2022-06-27T09:22:40.092Z"
   },
   {
    "duration": 834,
    "start_time": "2022-06-27T09:22:55.203Z"
   },
   {
    "duration": 896,
    "start_time": "2022-06-27T09:24:07.793Z"
   },
   {
    "duration": 1342,
    "start_time": "2022-06-27T09:24:20.073Z"
   },
   {
    "duration": 1392,
    "start_time": "2022-06-27T09:25:13.246Z"
   },
   {
    "duration": 1470,
    "start_time": "2022-06-27T09:25:30.620Z"
   },
   {
    "duration": 28,
    "start_time": "2022-06-27T09:29:11.316Z"
   },
   {
    "duration": 146,
    "start_time": "2022-06-27T09:29:23.046Z"
   },
   {
    "duration": 1540,
    "start_time": "2022-06-27T09:30:01.243Z"
   },
   {
    "duration": 4,
    "start_time": "2022-06-27T09:30:02.785Z"
   },
   {
    "duration": 55,
    "start_time": "2022-06-27T09:30:02.791Z"
   },
   {
    "duration": 19,
    "start_time": "2022-06-27T09:30:02.848Z"
   },
   {
    "duration": 24,
    "start_time": "2022-06-27T09:30:02.869Z"
   },
   {
    "duration": 37,
    "start_time": "2022-06-27T09:30:02.894Z"
   },
   {
    "duration": 10,
    "start_time": "2022-06-27T09:30:02.933Z"
   },
   {
    "duration": 27,
    "start_time": "2022-06-27T09:30:02.944Z"
   },
   {
    "duration": 838,
    "start_time": "2022-06-27T09:30:02.974Z"
   },
   {
    "duration": 1410,
    "start_time": "2022-06-27T09:30:03.814Z"
   },
   {
    "duration": 43,
    "start_time": "2022-06-27T09:30:05.225Z"
   },
   {
    "duration": 968,
    "start_time": "2022-06-27T09:30:05.269Z"
   },
   {
    "duration": 1412,
    "start_time": "2022-06-27T09:33:19.281Z"
   },
   {
    "duration": 12,
    "start_time": "2022-06-27T09:37:06.948Z"
   },
   {
    "duration": 23,
    "start_time": "2022-06-27T09:52:19.021Z"
   },
   {
    "duration": 52,
    "start_time": "2022-06-27T09:54:08.017Z"
   },
   {
    "duration": 444,
    "start_time": "2022-06-27T09:54:52.438Z"
   },
   {
    "duration": 117,
    "start_time": "2022-06-27T09:59:07.971Z"
   },
   {
    "duration": 529,
    "start_time": "2022-06-27T09:59:18.199Z"
   },
   {
    "duration": 11,
    "start_time": "2022-06-27T09:59:58.752Z"
   },
   {
    "duration": 30,
    "start_time": "2022-06-27T10:00:05.578Z"
   },
   {
    "duration": 142,
    "start_time": "2022-06-27T10:01:12.666Z"
   },
   {
    "duration": 15,
    "start_time": "2022-06-27T10:01:17.396Z"
   },
   {
    "duration": 137443,
    "start_time": "2022-06-27T10:01:18.273Z"
   },
   {
    "duration": 1259,
    "start_time": "2022-06-27T10:03:35.718Z"
   },
   {
    "duration": 136,
    "start_time": "2022-06-27T10:04:42.404Z"
   },
   {
    "duration": 1519,
    "start_time": "2022-06-27T10:04:50.226Z"
   },
   {
    "duration": 171,
    "start_time": "2022-06-27T10:05:07.450Z"
   },
   {
    "duration": 654,
    "start_time": "2022-06-27T10:05:17.103Z"
   },
   {
    "duration": 1836,
    "start_time": "2022-06-27T10:06:12.351Z"
   },
   {
    "duration": 7,
    "start_time": "2022-06-27T10:06:14.190Z"
   },
   {
    "duration": 93,
    "start_time": "2022-06-27T10:06:14.200Z"
   },
   {
    "duration": 24,
    "start_time": "2022-06-27T10:06:14.296Z"
   },
   {
    "duration": 48,
    "start_time": "2022-06-27T10:06:14.322Z"
   },
   {
    "duration": 44,
    "start_time": "2022-06-27T10:06:14.374Z"
   },
   {
    "duration": 47,
    "start_time": "2022-06-27T10:06:14.420Z"
   },
   {
    "duration": 15,
    "start_time": "2022-06-27T10:06:14.472Z"
   },
   {
    "duration": 1192,
    "start_time": "2022-06-27T10:06:14.491Z"
   },
   {
    "duration": 1984,
    "start_time": "2022-06-27T10:06:15.688Z"
   },
   {
    "duration": 40,
    "start_time": "2022-06-27T10:06:17.675Z"
   },
   {
    "duration": 1872,
    "start_time": "2022-06-27T10:06:17.718Z"
   },
   {
    "duration": 36,
    "start_time": "2022-06-27T10:06:19.593Z"
   },
   {
    "duration": 524,
    "start_time": "2022-06-27T10:06:19.634Z"
   },
   {
    "duration": 582,
    "start_time": "2022-06-27T10:06:20.161Z"
   },
   {
    "duration": 25,
    "start_time": "2022-06-27T10:06:20.746Z"
   },
   {
    "duration": 26,
    "start_time": "2022-06-27T10:06:20.774Z"
   },
   {
    "duration": 144843,
    "start_time": "2022-06-27T10:06:20.802Z"
   },
   {
    "duration": 1236,
    "start_time": "2022-06-27T10:08:45.647Z"
   },
   {
    "duration": 2441,
    "start_time": "2022-06-27T10:08:46.886Z"
   },
   {
    "duration": 1038,
    "start_time": "2022-06-27T10:08:49.330Z"
   },
   {
    "duration": 16,
    "start_time": "2022-06-27T10:09:42.431Z"
   },
   {
    "duration": 143,
    "start_time": "2022-06-27T10:11:33.684Z"
   },
   {
    "duration": 14,
    "start_time": "2022-06-27T10:11:49.939Z"
   },
   {
    "duration": 18,
    "start_time": "2022-06-27T13:17:00.829Z"
   },
   {
    "duration": 16,
    "start_time": "2022-06-27T13:17:20.769Z"
   },
   {
    "duration": 13,
    "start_time": "2022-06-27T13:17:29.958Z"
   },
   {
    "duration": 7391,
    "start_time": "2022-06-27T13:17:39.187Z"
   },
   {
    "duration": 11,
    "start_time": "2022-06-27T13:19:14.974Z"
   },
   {
    "duration": 11,
    "start_time": "2022-06-27T13:19:19.848Z"
   },
   {
    "duration": 1338,
    "start_time": "2022-06-27T13:20:17.213Z"
   },
   {
    "duration": 1498,
    "start_time": "2022-06-27T13:21:27.867Z"
   },
   {
    "duration": 5,
    "start_time": "2022-06-27T13:22:15.449Z"
   },
   {
    "duration": 1591,
    "start_time": "2022-06-27T13:22:46.789Z"
   },
   {
    "duration": 4,
    "start_time": "2022-06-27T13:22:48.383Z"
   },
   {
    "duration": 66,
    "start_time": "2022-06-27T13:22:48.389Z"
   },
   {
    "duration": 16,
    "start_time": "2022-06-27T13:22:48.457Z"
   },
   {
    "duration": 18,
    "start_time": "2022-06-27T13:22:48.475Z"
   },
   {
    "duration": 57,
    "start_time": "2022-06-27T13:22:48.495Z"
   },
   {
    "duration": 14,
    "start_time": "2022-06-27T13:22:48.554Z"
   },
   {
    "duration": 4,
    "start_time": "2022-06-27T13:22:48.570Z"
   },
   {
    "duration": 986,
    "start_time": "2022-06-27T13:22:48.576Z"
   },
   {
    "duration": 1709,
    "start_time": "2022-06-27T13:22:49.565Z"
   },
   {
    "duration": 24,
    "start_time": "2022-06-27T13:22:51.276Z"
   },
   {
    "duration": 1672,
    "start_time": "2022-06-27T13:22:51.302Z"
   },
   {
    "duration": 4,
    "start_time": "2022-06-27T13:22:52.976Z"
   },
   {
    "duration": 27,
    "start_time": "2022-06-27T13:22:52.982Z"
   },
   {
    "duration": 46,
    "start_time": "2022-06-27T13:22:53.011Z"
   },
   {
    "duration": 586,
    "start_time": "2022-06-27T13:22:53.060Z"
   },
   {
    "duration": 20,
    "start_time": "2022-06-27T13:22:53.648Z"
   },
   {
    "duration": 15,
    "start_time": "2022-06-27T13:22:53.669Z"
   },
   {
    "duration": 122789,
    "start_time": "2022-06-27T13:22:53.686Z"
   },
   {
    "duration": 1284,
    "start_time": "2022-06-27T13:24:56.477Z"
   },
   {
    "duration": 17,
    "start_time": "2022-06-27T13:24:57.763Z"
   },
   {
    "duration": 4243,
    "start_time": "2022-06-27T13:24:57.782Z"
   },
   {
    "duration": 1674,
    "start_time": "2022-06-27T13:25:51.145Z"
   },
   {
    "duration": 789,
    "start_time": "2022-06-27T13:26:44.279Z"
   },
   {
    "duration": 13,
    "start_time": "2022-06-27T13:29:33.608Z"
   },
   {
    "duration": 1478,
    "start_time": "2022-06-27T16:18:10.635Z"
   },
   {
    "duration": 4,
    "start_time": "2022-06-27T16:18:12.115Z"
   },
   {
    "duration": 56,
    "start_time": "2022-06-27T16:18:12.121Z"
   },
   {
    "duration": 13,
    "start_time": "2022-06-27T16:18:12.179Z"
   },
   {
    "duration": 20,
    "start_time": "2022-06-27T16:18:12.194Z"
   },
   {
    "duration": 55,
    "start_time": "2022-06-27T16:18:12.216Z"
   },
   {
    "duration": 14,
    "start_time": "2022-06-27T16:18:12.272Z"
   },
   {
    "duration": 4,
    "start_time": "2022-06-27T16:18:12.289Z"
   },
   {
    "duration": 975,
    "start_time": "2022-06-27T16:18:12.295Z"
   },
   {
    "duration": 1595,
    "start_time": "2022-06-27T16:18:13.273Z"
   },
   {
    "duration": 23,
    "start_time": "2022-06-27T16:18:14.870Z"
   },
   {
    "duration": 1613,
    "start_time": "2022-06-27T16:18:14.895Z"
   },
   {
    "duration": 4,
    "start_time": "2022-06-27T16:18:16.510Z"
   },
   {
    "duration": 41,
    "start_time": "2022-06-27T16:18:16.516Z"
   },
   {
    "duration": 15,
    "start_time": "2022-06-27T16:18:16.559Z"
   },
   {
    "duration": 501,
    "start_time": "2022-06-27T16:18:16.652Z"
   },
   {
    "duration": 20,
    "start_time": "2022-06-27T16:18:17.155Z"
   },
   {
    "duration": 15,
    "start_time": "2022-06-27T16:18:17.177Z"
   },
   {
    "duration": 117867,
    "start_time": "2022-06-27T16:18:17.194Z"
   },
   {
    "duration": 1298,
    "start_time": "2022-06-27T16:20:15.062Z"
   },
   {
    "duration": 1640,
    "start_time": "2022-06-27T16:20:16.362Z"
   },
   {
    "duration": 707,
    "start_time": "2022-06-27T16:20:18.004Z"
   },
   {
    "duration": 12,
    "start_time": "2022-06-27T16:20:18.713Z"
   },
   {
    "duration": 1766,
    "start_time": "2022-06-28T07:43:01.891Z"
   },
   {
    "duration": 8,
    "start_time": "2022-06-28T07:43:03.665Z"
   },
   {
    "duration": 227,
    "start_time": "2022-06-28T07:43:03.675Z"
   },
   {
    "duration": 17,
    "start_time": "2022-06-28T07:43:03.905Z"
   },
   {
    "duration": 55,
    "start_time": "2022-06-28T07:43:03.924Z"
   },
   {
    "duration": 32,
    "start_time": "2022-06-28T07:43:03.981Z"
   },
   {
    "duration": 26,
    "start_time": "2022-06-28T07:43:04.014Z"
   },
   {
    "duration": 34,
    "start_time": "2022-06-28T07:43:04.041Z"
   },
   {
    "duration": 975,
    "start_time": "2022-06-28T07:43:04.077Z"
   },
   {
    "duration": 1659,
    "start_time": "2022-06-28T07:43:05.054Z"
   },
   {
    "duration": 34,
    "start_time": "2022-06-28T07:43:06.715Z"
   },
   {
    "duration": 1824,
    "start_time": "2022-06-28T07:43:06.751Z"
   },
   {
    "duration": 5,
    "start_time": "2022-06-28T07:43:08.578Z"
   },
   {
    "duration": 28,
    "start_time": "2022-06-28T07:43:08.587Z"
   },
   {
    "duration": 337,
    "start_time": "2022-06-28T07:43:08.616Z"
   },
   {
    "duration": 549,
    "start_time": "2022-06-28T07:43:08.968Z"
   },
   {
    "duration": 58,
    "start_time": "2022-06-28T07:43:09.519Z"
   },
   {
    "duration": 17,
    "start_time": "2022-06-28T07:43:09.579Z"
   },
   {
    "duration": 131898,
    "start_time": "2022-06-28T07:43:09.597Z"
   },
   {
    "duration": 1190,
    "start_time": "2022-06-28T07:45:21.497Z"
   },
   {
    "duration": 1741,
    "start_time": "2022-06-28T07:45:22.689Z"
   },
   {
    "duration": 728,
    "start_time": "2022-06-28T07:45:24.434Z"
   },
   {
    "duration": 12,
    "start_time": "2022-06-28T07:45:25.164Z"
   }
  ],
  "kernelspec": {
   "display_name": "Python 3 (ipykernel)",
   "language": "python",
   "name": "python3"
  },
  "language_info": {
   "codemirror_mode": {
    "name": "ipython",
    "version": 3
   },
   "file_extension": ".py",
   "mimetype": "text/x-python",
   "name": "python",
   "nbconvert_exporter": "python",
   "pygments_lexer": "ipython3",
   "version": "3.9.5"
  },
  "toc": {
   "base_numbering": 1,
   "nav_menu": {},
   "number_sections": true,
   "sideBar": true,
   "skip_h1_title": true,
   "title_cell": "Table of Contents",
   "title_sidebar": "Contents",
   "toc_cell": true,
   "toc_position": {},
   "toc_section_display": true,
   "toc_window_display": true
  }
 },
 "nbformat": 4,
 "nbformat_minor": 2
}
